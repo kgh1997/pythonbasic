{
 "cells": [
  {
   "cell_type": "code",
   "execution_count": 9,
   "id": "e3ef8e94-9923-45eb-b306-63da4d780856",
   "metadata": {},
   "outputs": [
    {
     "name": "stdout",
     "output_type": "stream",
     "text": [
      "실행 결과:\n"
     ]
    },
    {
     "name": "stdin",
     "output_type": "stream",
     "text": [
      "자연수 하나 입력해주세요: 21\n"
     ]
    },
    {
     "name": "stdout",
     "output_type": "stream",
     "text": [
      "0\n"
     ]
    }
   ],
   "source": [
    "print(\"실행 결과:\")\n",
    "n = int(input(\"자연수 하나 입력해주세요:\"))\n",
    "if (n - 50) < 0:\n",
    "    print(0)\n",
    "else:\n",
    "    print(n-50)\n",
    "    "
   ]
  },
  {
   "cell_type": "markdown",
   "id": "14e2e7a5-30e5-4d6f-94e6-662a9e1b6632",
   "metadata": {},
   "source": [
    "### if문의 바디는 나중에 작성할 예정일 경우  pass 키워드를 통해 오류 없이 코드를 작성할 수 있다.  \n",
    "### if 조건식:  \n",
    "###     pass # TOBE"
   ]
  },
  {
   "cell_type": "code",
   "execution_count": 10,
   "id": "96b062d3-291b-468d-98af-adbb52287a95",
   "metadata": {},
   "outputs": [
    {
     "name": "stdin",
     "output_type": "stream",
     "text": [
      "나이를 입력해주세요. 10\n"
     ]
    },
    {
     "name": "stdout",
     "output_type": "stream",
     "text": [
      "10살 이상입니다.\n",
      "age >= 10 구간\n",
      "늘 출력\n"
     ]
    }
   ],
   "source": [
    "age = int(input(\"나이를 입력해주세요.\"))\n",
    "if age >= 10:\n",
    "    print(\"10살 이상입니다.\")\n",
    "    if age >= 20:\n",
    "        print(\"20살 이상입니다.\")\n",
    "        if age>= 30:\n",
    "            print(\"30살 이상입니다.\")\n",
    "            if age >= 40:\n",
    "                print(\"40살 이상입니다.\")\n",
    "            print(\"age >= 30 구간\")\n",
    "        print(\"age >= 20 구간\")\n",
    "    print(\"age >= 10 구간\")\n",
    "print(\"늘 출력\")"
   ]
  },
  {
   "cell_type": "code",
   "execution_count": 14,
   "id": "3a56047a-9c24-496b-9d8c-9c9e6f1c3da3",
   "metadata": {},
   "outputs": [
    {
     "name": "stdin",
     "output_type": "stream",
     "text": [
      "실행 결과:\n",
      "자연수 하나 입력해주세요: 21\n"
     ]
    },
    {
     "name": "stdout",
     "output_type": "stream",
     "text": [
      "홀수입니다.\n"
     ]
    }
   ],
   "source": [
    "num = int(input(\"실행 결과:\\n자연수 하나 입력해주세요:\"))\n",
    "if num%2 == 0:\n",
    "    print(\"짝수입니다.\")\n",
    "else:\n",
    "    print(\"홀수입니다.\")"
   ]
  },
  {
   "cell_type": "code",
   "execution_count": 7,
   "id": "6265f710-ade4-435a-bde8-c8f23d7c3a94",
   "metadata": {},
   "outputs": [
    {
     "name": "stdin",
     "output_type": "stream",
     "text": [
      "실행 결과:\n",
      "소프트웨어 설계 점수를 입력하세요. -7\n",
      "소프트웨어 개발 점수를 입력하세요. 50\n",
      "데이터베이스 구축 점수를 입력하세요. 40\n",
      "프로그래밍 언어 활용 점수를 입력하세요. 30\n",
      "정보시스템 구축관리 점수를 입력하세요. 70\n"
     ]
    },
    {
     "name": "stdout",
     "output_type": "stream",
     "text": [
      "잘못된 점수입니다\n"
     ]
    }
   ],
   "source": [
    "design = int(input(\"실행 결과:\\n소프트웨어 설계 점수를 입력하세요.\"))\n",
    "develop = int(input(\"소프트웨어 개발 점수를 입력하세요.\"))\n",
    "make = int(input(\"데이터베이스 구축 점수를 입력하세요.\"))\n",
    "prog = int(input(\"프로그래밍 언어 활용 점수를 입력하세요.\"))\n",
    "manage = int(input(\"정보시스템 구축관리 점수를 입력하세요.\"))\n",
    "design_ = 0<=design<=100\n",
    "develop_ = 0<=develop<=100\n",
    "make_ = 0<=make<=100\n",
    "prog_ = 0<=prog<=100\n",
    "manage_ = 0<=manage<=100\n",
    "if design_&develop_&make_&prog_&manage_ == False:\n",
    "    print(\"잘못된 점수입니다\")\n",
    "else:\n",
    "    if (design+develop+make+prog+manage)/5 >= 60:\n",
    "        print(\"합격\")\n",
    "    else:\n",
    "        print(\"불합격\")\n",
    "    "
   ]
  },
  {
   "cell_type": "code",
   "execution_count": 153,
   "id": "0f3af788-0fc9-426b-bd02-89cc0c3b3deb",
   "metadata": {},
   "outputs": [
    {
     "data": {
      "text/plain": [
       "True"
      ]
     },
     "execution_count": 153,
     "metadata": {},
     "output_type": "execute_result"
    }
   ],
   "source": [
    "a=1<0\n",
    "b=2>0\n",
    "c=3>0\n",
    "#(a & b & c) ==  False\n",
    "#(a and b and c) is False"
   ]
  },
  {
   "cell_type": "code",
   "execution_count": 26,
   "id": "1eb7e747-db49-4b8f-92b7-85cf37c82bbe",
   "metadata": {},
   "outputs": [
    {
     "name": "stdin",
     "output_type": "stream",
     "text": [
      "실행 결과:\n",
      "현재 물의 온도를 입력해주세요 -0.12\n"
     ]
    },
    {
     "name": "stdout",
     "output_type": "stream",
     "text": [
      "고체로 예상됩니다.\n"
     ]
    }
   ],
   "source": [
    "temp = float(input(\"실행 결과:\\n현재 물의 온도를 입력해주세요\"))\n",
    "if temp >= 100:\n",
    "    print(\"기체로 예상됩니다.\")\n",
    "elif 0<=temp<100:\n",
    "    print(\"액체로 예상됩니다.\")\n",
    "else:\n",
    "    print(\"고체로 예상됩니다.\")"
   ]
  },
  {
   "cell_type": "code",
   "execution_count": 56,
   "id": "d9ece3ea-1321-4eb0-9df3-f3c7b7e5e160",
   "metadata": {},
   "outputs": [
    {
     "name": "stdin",
     "output_type": "stream",
     "text": [
      "자신의 나이를 입력하세요: 19\n"
     ]
    },
    {
     "name": "stdout",
     "output_type": "stream",
     "text": [
      "1500원\n"
     ]
    }
   ],
   "source": [
    "age = int(input(\"자신의 나이를 입력하세요:\"))\n",
    "if age >= 19:\n",
    "    print(\"1500원\")\n",
    "elif age >= 12:\n",
    "    print(\"1100원\")\n",
    "elif age >= 6:\n",
    "    print(\"800원\")\n",
    "else:\n",
    "    print(\"무임승차입니다.\")"
   ]
  },
  {
   "cell_type": "code",
   "execution_count": 64,
   "id": "be6875bb-9fb7-4b6b-a2e0-8918dc79004f",
   "metadata": {},
   "outputs": [
    {
     "name": "stdin",
     "output_type": "stream",
     "text": [
      "실행 결과:\n",
      "발주 수량을 입력하세요: 2001\n"
     ]
    },
    {
     "name": "stdout",
     "output_type": "stream",
     "text": [
      "2001개를 주문하셨습니다.\n",
      "적용 할인율은 20%입니다.\n",
      "총 발주 금액은 &16008입니다.\n"
     ]
    }
   ],
   "source": [
    "quan = int(input(\"실행 결과:\\n발주 수량을 입력하세요:\"))\n",
    "print(quan,\"개를 주문하셨습니다.\",sep=\"\")\n",
    "price = quan*10\n",
    "if quan > 2000 :\n",
    "    sale = 8/10\n",
    "    sale_price = sale*price\n",
    "    print(\"적용 할인율은 20%입니다.\")\n",
    "    print(\"총 발주 금액은 &\",int(sale_price),\"입니다.\",sep=\"\")\n",
    "elif quan > 1500:\n",
    "    sale = 9/10\n",
    "    sale_price = sale*price\n",
    "    print(\"적용 할인율은 10%입니다.\")\n",
    "    print(\"총 발주 금액은 &\",int(sale_price),\"입니다.\",sep=\"\")\n",
    "elif quan > 1000:\n",
    "    sale = 5/10\n",
    "    sale_price = sale*price\n",
    "    print(\"적용 할인율은 5%입니다.\")\n",
    "    print(\"총 발주 금액은 &\",int(sale_price),\"입니다.\",sep=\"\")\n",
    "else:\n",
    "    price = quan*10\n",
    "    print(\"할인이 적용되지 않습니다.\")\n",
    "    print(\"총 발주 금액은 &\",int(sale_price),\"입니다.\",sep=\"\")"
   ]
  },
  {
   "cell_type": "code",
   "execution_count": 123,
   "id": "425d1c1b-b28c-4993-a571-4c8df8627ee0",
   "metadata": {},
   "outputs": [
    {
     "name": "stdin",
     "output_type": "stream",
     "text": [
      "실행 결과:\n",
      "주민번호 뒷자리를 입력하세요: 5678912\n"
     ]
    },
    {
     "name": "stdout",
     "output_type": "stream",
     "text": [
      "잘못된 입력입니다.\n"
     ]
    }
   ],
   "source": [
    "reg_num = input(\"실행 결과:\\n주민번호 뒷자리를 입력하세요:\")\n",
    "if len(reg_num) != 7:\n",
    "    print(\"자리수를 잘못 입력했습니다.\")\n",
    "else:\n",
    "    # print(reg_num[0])\n",
    "    if reg_num[0] == \"1\" or reg_num[0] == \"3\":\n",
    "        print(\"남자\")\n",
    "    elif reg_num[0] == \"2\" or reg_num[0] == \"4\":\n",
    "        print(\"여자\")\n",
    "    else:\n",
    "        print(\"잘못된 입력입니다.\")\n"
   ]
  },
  {
   "cell_type": "code",
   "execution_count": 151,
   "id": "f9470570-f851-45c4-98f4-e117313063ff",
   "metadata": {},
   "outputs": [
    {
     "name": "stdin",
     "output_type": "stream",
     "text": [
      "실행 결과:\n",
      "확인할 연도를 입력하세요: 2000\n"
     ]
    },
    {
     "name": "stdout",
     "output_type": "stream",
     "text": [
      "윤년입니다.\n"
     ]
    }
   ],
   "source": [
    "year = int(input(\"실행 결과:\\n확인할 연도를 입력하세요:\"))\n",
    "if (year%100==0) and (year%400!=0):\n",
    "    print(\"평년입니다.\")\n",
    "elif year%4==0:\n",
    "    print(\"윤년입니다.\")\n",
    "else:\n",
    "    print(\"평년입니다.\")\n"
   ]
  },
  {
   "cell_type": "code",
   "execution_count": 149,
   "id": "6b62d556-9ac5-43e8-a7eb-866fd9e399a7",
   "metadata": {},
   "outputs": [
    {
     "name": "stdin",
     "output_type": "stream",
     "text": [
      "실행 결과:\n",
      "확인할 연도를 입력하세요: 2023\n"
     ]
    },
    {
     "name": "stdout",
     "output_type": "stream",
     "text": [
      "평년입니다.\n"
     ]
    }
   ],
   "source": [
    "year = int(input(\"실행 결과:\\n확인할 연도를 입력하세요:\"))\n",
    "if year%4==0:\n",
    "    if (year%100==0) and (year%400!=0):\n",
    "        print(\"평년입니다.\")\n",
    "    else:\n",
    "        print(\"윤년입니다.\")\n",
    "else:\n",
    "    print(\"평년입니다.\")\n"
   ]
  },
  {
   "cell_type": "markdown",
   "id": "04aaf1b9-ba98-4ae7-bf53-7033dc6aa218",
   "metadata": {},
   "source": [
    "### for문과  range()내장 함수  \n",
    "### for 요소를 담을 변수 in 반복 가능한 객체:  \n",
    "### for 변수 in range(횟수):"
   ]
  },
  {
   "cell_type": "code",
   "execution_count": 158,
   "id": "10e59256-92b7-4419-af5b-a9922f8c3a0e",
   "metadata": {
    "scrolled": true,
    "tags": []
   },
   "outputs": [
    {
     "name": "stdout",
     "output_type": "stream",
     "text": [
      "h 0\n",
      "h 1\n",
      "h 2\n",
      "h 3\n",
      "h 4\n",
      "h 5\n",
      "h 6\n",
      "h 7\n",
      "h 8\n",
      "h 9\n",
      "h 10\n",
      "h 11\n",
      "h 12\n",
      "h 13\n",
      "h 14\n",
      "h 15\n",
      "h 16\n",
      "h 17\n",
      "h 18\n",
      "h 19\n",
      "h 20\n",
      "h 21\n",
      "h 22\n",
      "h 23\n",
      "h 24\n",
      "h 25\n",
      "h 26\n",
      "h 27\n",
      "h 28\n",
      "h 29\n",
      "h 30\n",
      "h 31\n",
      "h 32\n",
      "h 33\n",
      "h 34\n",
      "h 35\n",
      "h 36\n",
      "h 37\n",
      "h 38\n",
      "h 39\n",
      "h 40\n",
      "h 41\n",
      "h 42\n",
      "h 43\n",
      "h 44\n",
      "h 45\n",
      "h 46\n",
      "h 47\n",
      "h 48\n",
      "h 49\n",
      "h 50\n",
      "h 51\n",
      "h 52\n",
      "h 53\n",
      "h 54\n",
      "h 55\n",
      "h 56\n",
      "h 57\n",
      "h 58\n",
      "h 59\n",
      "h 60\n",
      "h 61\n",
      "h 62\n",
      "h 63\n",
      "h 64\n",
      "h 65\n",
      "h 66\n",
      "h 67\n",
      "h 68\n",
      "h 69\n",
      "h 70\n",
      "h 71\n",
      "h 72\n",
      "h 73\n",
      "h 74\n",
      "h 75\n",
      "h 76\n",
      "h 77\n",
      "h 78\n",
      "h 79\n",
      "h 80\n",
      "h 81\n",
      "h 82\n",
      "h 83\n",
      "h 84\n",
      "h 85\n",
      "h 86\n",
      "h 87\n",
      "h 88\n",
      "h 89\n",
      "h 90\n",
      "h 91\n",
      "h 92\n",
      "h 93\n",
      "h 94\n",
      "h 95\n",
      "h 96\n",
      "h 97\n",
      "h 98\n",
      "h 99\n"
     ]
    }
   ],
   "source": [
    "for n in range(100): # n은 0부터 99까지 생성, range(시작,끝,증감크기), range()함수로 list 생성도 가능함. list(range(2,100,2)) \n",
    "    print(\"h\",n) # range() 함수는 메모리에 공간을 할당하는 것이 아니라 그때그때 요소를 만들어 반환하기에 공간 효율적임"
   ]
  },
  {
   "cell_type": "code",
   "execution_count": 161,
   "id": "1e072e7b-c963-43b1-956f-3416eb895162",
   "metadata": {
    "scrolled": true,
    "tags": []
   },
   "outputs": [
    {
     "name": "stdout",
     "output_type": "stream",
     "text": [
      "Hello world 1\n",
      "Hello world 2\n",
      "Hello world 3\n",
      "Hello world 4\n",
      "Hello world 5\n",
      "Hello world 6\n",
      "Hello world 7\n",
      "Hello world 8\n",
      "Hello world 9\n",
      "Hello world 10\n",
      "Hello world 11\n",
      "Hello world 12\n",
      "Hello world 13\n",
      "Hello world 14\n",
      "Hello world 15\n",
      "Hello world 16\n",
      "Hello world 17\n",
      "Hello world 18\n",
      "Hello world 19\n",
      "Hello world 20\n",
      "Hello world 21\n",
      "Hello world 22\n",
      "Hello world 23\n",
      "Hello world 24\n",
      "Hello world 25\n",
      "Hello world 26\n",
      "Hello world 27\n",
      "Hello world 28\n",
      "Hello world 29\n",
      "Hello world 30\n",
      "Hello world 31\n",
      "Hello world 32\n",
      "Hello world 33\n",
      "Hello world 34\n",
      "Hello world 35\n",
      "Hello world 36\n",
      "Hello world 37\n",
      "Hello world 38\n",
      "Hello world 39\n",
      "Hello world 40\n",
      "Hello world 41\n",
      "Hello world 42\n",
      "Hello world 43\n",
      "Hello world 44\n",
      "Hello world 45\n",
      "Hello world 46\n",
      "Hello world 47\n",
      "Hello world 48\n",
      "Hello world 49\n",
      "Hello world 50\n",
      "Hello world 51\n",
      "Hello world 52\n",
      "Hello world 53\n",
      "Hello world 54\n",
      "Hello world 55\n",
      "Hello world 56\n",
      "Hello world 57\n",
      "Hello world 58\n",
      "Hello world 59\n",
      "Hello world 60\n",
      "Hello world 61\n",
      "Hello world 62\n",
      "Hello world 63\n",
      "Hello world 64\n",
      "Hello world 65\n",
      "Hello world 66\n",
      "Hello world 67\n",
      "Hello world 68\n",
      "Hello world 69\n",
      "Hello world 70\n",
      "Hello world 71\n",
      "Hello world 72\n",
      "Hello world 73\n",
      "Hello world 74\n",
      "Hello world 75\n",
      "Hello world 76\n",
      "Hello world 77\n",
      "Hello world 78\n",
      "Hello world 79\n",
      "Hello world 80\n",
      "Hello world 81\n",
      "Hello world 82\n",
      "Hello world 83\n",
      "Hello world 84\n",
      "Hello world 85\n",
      "Hello world 86\n",
      "Hello world 87\n",
      "Hello world 88\n",
      "Hello world 89\n",
      "Hello world 90\n",
      "Hello world 91\n",
      "Hello world 92\n",
      "Hello world 93\n",
      "Hello world 94\n",
      "Hello world 95\n",
      "Hello world 96\n",
      "Hello world 97\n",
      "Hello world 98\n",
      "Hello world 99\n",
      "Hello world 100\n"
     ]
    }
   ],
   "source": [
    "for i in range(100):\n",
    "    print('Hello world',i+1)"
   ]
  },
  {
   "cell_type": "code",
   "execution_count": 162,
   "id": "33dbf902-1b11-4efb-9200-472586c6f7a1",
   "metadata": {},
   "outputs": [
    {
     "name": "stdin",
     "output_type": "stream",
     "text": [
      "실행 결과:\n",
      "인사 몇 번 해드릴까요? 3\n"
     ]
    },
    {
     "name": "stdout",
     "output_type": "stream",
     "text": [
      "Hello world\n",
      "Hello world\n",
      "Hello world\n"
     ]
    }
   ],
   "source": [
    "n = int(input(\"실행 결과:\\n인사 몇 번 해드릴까요?\"))\n",
    "for i in range(n):\n",
    "    print(\"Hello world\")"
   ]
  },
  {
   "cell_type": "code",
   "execution_count": 164,
   "id": "09895622-59de-46fd-8691-6e50155ec529",
   "metadata": {},
   "outputs": [
    {
     "name": "stdout",
     "output_type": "stream",
     "text": [
      "실행 결과:\n",
      "[5, 6, 7, 8, 9]\n",
      "실행 결과:\n",
      "[0, 3, 6, 9]\n",
      "실행 결과:\n",
      "[-10, -40, -70]\n"
     ]
    }
   ],
   "source": [
    "print(\"실행 결과:\")\n",
    "a = list(range(5,10))\n",
    "print(a)\n",
    "print(\"실행 결과:\")\n",
    "b = list(range(0,10,3))\n",
    "print(b)\n",
    "print(\"실행 결과:\")\n",
    "c = list(range(-10,-71,-30))\n",
    "print(c)"
   ]
  },
  {
   "cell_type": "code",
   "execution_count": 198,
   "id": "7391b520-fa23-4cad-b507-03b92ff63dcb",
   "metadata": {},
   "outputs": [
    {
     "name": "stdin",
     "output_type": "stream",
     "text": [
      "실행 결과:\n",
      "자연수 하나 입력해주세요: 6\n"
     ]
    },
    {
     "name": "stdout",
     "output_type": "stream",
     "text": [
      "6\t6\t6\t6\t6\t6\t\n",
      "\n",
      "5\t5\t5\t5\t5\t\n",
      "\n",
      "4\t4\t4\t4\t\n",
      "\n",
      "3\t3\t3\t\n",
      "\n",
      "2\t2\t\n",
      "\n",
      "1\t\n",
      "\n"
     ]
    }
   ],
   "source": [
    "num = int(input(\"실행 결과:\\n자연수 하나 입력해주세요:\"))\n",
    "for i in range(num):\n",
    "    for j in range(num):\n",
    "        print(num,end=\"\\t\")\n",
    "    num = num -1\n",
    "    print(\"\\n\")\n",
    "        "
   ]
  },
  {
   "cell_type": "code",
   "execution_count": 206,
   "id": "33439396-f59c-4c9d-b5a2-5b64a64be757",
   "metadata": {},
   "outputs": [
    {
     "name": "stdin",
     "output_type": "stream",
     "text": [
      "실행 결과:\n",
      "자연수 하나 입력해주세요: 6\n"
     ]
    },
    {
     "name": "stdout",
     "output_type": "stream",
     "text": [
      "1\t\n",
      "\n",
      "2\t2\t\n",
      "\n",
      "3\t3\t3\t\n",
      "\n",
      "4\t4\t4\t4\t\n",
      "\n",
      "5\t5\t5\t5\t5\t\n",
      "\n",
      "6\t6\t6\t6\t6\t6\t\n",
      "\n"
     ]
    }
   ],
   "source": [
    "num = int(input(\"실행 결과:\\n자연수 하나 입력해주세요:\"))\n",
    "for i in range(num):\n",
    "    for j in range(i+1):\n",
    "        print(i+1,end=\"\\t\")\n",
    "    num = num -1\n",
    "    print(\"\\n\")"
   ]
  },
  {
   "cell_type": "code",
   "execution_count": 227,
   "id": "f04bf333-ad86-4ea3-bdc6-b7be0aa392e0",
   "metadata": {},
   "outputs": [
    {
     "name": "stdout",
     "output_type": "stream",
     "text": [
      "* * * * * * * * * * \n",
      "*                 *\n",
      "*                 *\n",
      "*                 *\n",
      "*                 *\n",
      "*                 *\n",
      "*                 *\n",
      "*                 *\n",
      "*                 *\n",
      "* * * * * * * * * * \n"
     ]
    }
   ],
   "source": [
    "for i in range(10):\n",
    "    if i == 0 or i == 9:\n",
    "        print(\"* \"*10)\n",
    "    else:\n",
    "        print('*                 *')\n",
    "    "
   ]
  },
  {
   "cell_type": "code",
   "execution_count": 3,
   "id": "efd97457-fcb9-4905-a4fa-274d753915e1",
   "metadata": {},
   "outputs": [
    {
     "name": "stdin",
     "output_type": "stream",
     "text": [
      "1부터 입력한 자연수까지의 모든 홀수의 합을 구합니다 100\n"
     ]
    },
    {
     "name": "stdout",
     "output_type": "stream",
     "text": [
      "1 +  3 +  5 +  7 +  9 +  11 +  13 +  15 +  17 +  19 +  21 +  23 +  25 +  27 +  29 +  31 +  33 +  35 +  37 +  39 +  41 +  43 +  45 +  47 +  49 +  51 +  53 +  55 +  57 +  59 +  61 +  63 +  65 +  67 +  69 +  71 +  73 +  75 +  77 +  79 +  81 +  83 +  85 +  87 +  89 +  91 +  93 +  95 +  97 +  99 = 2500\n"
     ]
    }
   ],
   "source": [
    "num = int(input(\"1부터 입력한 자연수까지의 모든 홀수의 합을 구합니다\"))\n",
    "sum_ = 0\n",
    "print(1,end=\"\")\n",
    "for i in range(3,num,2):\n",
    "    sum_ = sum_+ i\n",
    "    #if i != num-1:\n",
    "    print(\" + \",i,end=\"\")\n",
    "    #elif i == num-1:\n",
    "print(\" =\",sum_+1)"
   ]
  },
  {
   "cell_type": "markdown",
   "id": "b1688eaf-019d-47ff-abf5-a5833de2abbd",
   "metadata": {},
   "source": [
    "### iterable : 반복가능한의 사전적 의미를 갖는 이 단어는 \"여러 개의 요소들로 구성돼있으면서 요소를 한 번에 돌려줄 수 있는 객체'"
   ]
  },
  {
   "cell_type": "code",
   "execution_count": 6,
   "id": "528ab469-489f-4408-9b58-608868788c57",
   "metadata": {},
   "outputs": [
    {
     "name": "stdin",
     "output_type": "stream",
     "text": [
      "실행 결과:\n",
      "계승을 구할 숫자를 입력하세요. 7\n"
     ]
    },
    {
     "name": "stdout",
     "output_type": "stream",
     "text": [
      "5040\n"
     ]
    }
   ],
   "source": [
    "num = int(input(\"실행 결과:\\n계승을 구할 숫자를 입력하세요.\"))\n",
    "n = 1\n",
    "for i in range(num):\n",
    "    n = n*(i+1)\n",
    "print(n)"
   ]
  },
  {
   "cell_type": "markdown",
   "id": "6dc3390c-4504-4d41-9a05-b177bae949bb",
   "metadata": {},
   "source": [
    "### 시퀀스 객체로 반복하기 "
   ]
  },
  {
   "cell_type": "code",
   "execution_count": 11,
   "id": "7fc6677c-db4f-4cbf-9b88-d1091b1f2a65",
   "metadata": {},
   "outputs": [
    {
     "name": "stdout",
     "output_type": "stream",
     "text": [
      "A B C D "
     ]
    }
   ],
   "source": [
    "for _ in ([\"A\",\"B\",\"C\",\"D\"]):\n",
    "    print(_,end=\" \")"
   ]
  },
  {
   "cell_type": "code",
   "execution_count": 14,
   "id": "d0a6d118-ad14-41ea-bd22-09acd7edc71b",
   "metadata": {},
   "outputs": [
    {
     "name": "stdout",
     "output_type": "stream",
     "text": [
      "D C B A "
     ]
    }
   ],
   "source": [
    "for _ in reversed([\"A\",\"B\",\"C\",\"D\"]): # 리스트.reverse()함수는 리스트 요소 순서만 뒤집어주며 반환 값은 없다. 해당 시퀀스 변경됨\n",
    "    print(_,end=\" \") # 리스트.reversed()함수는 반환값은 주지만 해당 시퀀스를 변경하지 않습니다."
   ]
  },
  {
   "cell_type": "code",
   "execution_count": 22,
   "id": "34b555b3-899a-4c1a-98d0-c2048d2d0465",
   "metadata": {},
   "outputs": [
    {
     "name": "stdout",
     "output_type": "stream",
     "text": [
      "100 -420 250 1030 210 770 240 "
     ]
    }
   ],
   "source": [
    "for i in ([10,-42,25,103,21,77,24]):\n",
    "    print(i*10,end=\" \")"
   ]
  },
  {
   "cell_type": "code",
   "execution_count": 25,
   "id": "2ee0920a-0190-41ff-ac84-68b260753f63",
   "metadata": {},
   "outputs": [
    {
     "name": "stdin",
     "output_type": "stream",
     "text": [
      "실행 결과:\n",
      "구구단을 알려드립니다. 숫자를 입력하세요 9\n"
     ]
    },
    {
     "name": "stdout",
     "output_type": "stream",
     "text": [
      "9  *  1  =  9\n",
      "9  *  2  =  18\n",
      "9  *  3  =  27\n",
      "9  *  4  =  36\n",
      "9  *  5  =  45\n",
      "9  *  6  =  54\n",
      "9  *  7  =  63\n",
      "9  *  8  =  72\n",
      "9  *  9  =  81\n"
     ]
    }
   ],
   "source": [
    "num = int(input(\"실행 결과:\\n구구단을 알려드립니다. 숫자를 입력하세요\"))\n",
    "for i in range(num):\n",
    "    print(num,\" * \",i+1,\" = \",num*(i+1))"
   ]
  },
  {
   "cell_type": "code",
   "execution_count": 26,
   "id": "bf645e84-6f7d-4180-b755-30efed6a4400",
   "metadata": {},
   "outputs": [
    {
     "name": "stdin",
     "output_type": "stream",
     "text": [
      "실행 결과\n",
      "자연수를 입력해주세요: 100\n"
     ]
    },
    {
     "name": "stdout",
     "output_type": "stream",
     "text": [
      "5050\n"
     ]
    }
   ],
   "source": [
    "num = int(input(\"실행 결과\\n자연수를 입력해주세요:\"))\n",
    "sum_ = 0\n",
    "for i in range(1,num+1):\n",
    "    sum_ += i\n",
    "print(sum_)"
   ]
  },
  {
   "cell_type": "code",
   "execution_count": null,
   "id": "defb28fa-a25b-4e80-aede-c31e7e642721",
   "metadata": {},
   "outputs": [],
   "source": []
  }
 ],
 "metadata": {
  "kernelspec": {
   "display_name": "Python 3 (ipykernel)",
   "language": "python",
   "name": "python3"
  },
  "language_info": {
   "codemirror_mode": {
    "name": "ipython",
    "version": 3
   },
   "file_extension": ".py",
   "mimetype": "text/x-python",
   "name": "python",
   "nbconvert_exporter": "python",
   "pygments_lexer": "ipython3",
   "version": "3.9.13"
  }
 },
 "nbformat": 4,
 "nbformat_minor": 5
}
