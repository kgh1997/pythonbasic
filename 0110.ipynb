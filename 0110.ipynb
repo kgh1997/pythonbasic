{
 "cells": [
  {
   "cell_type": "code",
   "execution_count": 50,
   "id": "d51a5b58-0d14-469a-92c1-8ea3b87108d2",
   "metadata": {},
   "outputs": [
    {
     "name": "stdin",
     "output_type": "stream",
     "text": [
      "실행결과:\n",
      "실기점수를 입력하세요: 70 50 85 98 82\n"
     ]
    },
    {
     "name": "stdout",
     "output_type": "stream",
     "text": [
      "이 학생의 평균 점수는 79.0입니다.\n"
     ]
    }
   ],
   "source": [
    "scores = list(map(int,input(\"실행결과:\\n실기점수를 입력하세요:\").split(\" \")))\n",
    "total = 0\n",
    "i = len(scores)\n",
    "j = 0\n",
    "max_ = scores[0]\n",
    "min_ = scores[0]\n",
    "while i > 0:\n",
    "    total += scores[j]\n",
    "    if (max_ <= scores[j-1]):\n",
    "        max_ = scores[j-1]\n",
    "    if (min_ >= scores[j-1]):\n",
    "        min_ = scores[j-1]\n",
    "    j = j+1\n",
    "    i = i-1\n",
    "total = total - max_ - min_\n",
    "print(f\"이 학생의 평균 점수는 {total/(len(scores)-2)}입니다.\")"
   ]
  },
  {
   "cell_type": "code",
   "execution_count": 53,
   "id": "b6014f8e-e8c1-46d9-83cc-9ab752bd32d3",
   "metadata": {},
   "outputs": [
    {
     "name": "stdout",
     "output_type": "stream",
     "text": [
      "[2, 1, 1, 1, 0]\n"
     ]
    }
   ],
   "source": [
    "score = [86, 72, 98, 60, 45]\n",
    "grade_n = [0, 0, 0, 0, 0]\n",
    "for i in score:\n",
    "    if 85 <= i <= 100:\n",
    "        grade_n[0] += 1\n",
    "    elif 70 <= i <= 84:\n",
    "        grade_n[1] += 1\n",
    "    elif 55 <= i <= 69:\n",
    "        grade_n[2] += 1\n",
    "    elif 40 <= i <= 54:\n",
    "        grade_n[3]+=1\n",
    "    else:\n",
    "        grade_n[4]+=1\n",
    "print(grade_n)"
   ]
  },
  {
   "cell_type": "code",
   "execution_count": 67,
   "id": "fe573212-051d-4d49-b29a-135acf2ee8d2",
   "metadata": {},
   "outputs": [
    {
     "name": "stdout",
     "output_type": "stream",
     "text": [
      "실행 결과\n",
      "1\t2\tFizz\t4\tBuzz\tFizz\t7\t8\tFizz\tBuzz\t11\tFizz\t13\t14\tFizzBuzz\t16\t17\tFizz\t19\tBuzz\tFizz\t22\t23\tFizz\tBuzz\t26\tFizz\t28\t29\tFizzBuzz\t31\t32\tFizz\t34\tBuzz\tFizz\t37\t38\tFizz\tBuzz\t41\tFizz\t43\t44\tFizzBuzz\t46\t47\tFizz\t49\tBuzz\tFizz\t52\t53\tFizz\tBuzz\t56\tFizz\t58\t59\tFizzBuzz\t61\t62\tFizz\t64\tBuzz\tFizz\t67\t68\tFizz\tBuzz\t71\tFizz\t73\t74\tFizzBuzz\t76\t77\tFizz\t79\tBuzz\tFizz\t82\t83\tFizz\tBuzz\t86\tFizz\t88\t89\tFizzBuzz\t91\t92\tFizz\t94\tBuzz\tFizz\t97\t98\tFizz\tBuzz\t"
     ]
    }
   ],
   "source": [
    "n = list(range(1,101))\n",
    "print(\"실행 결과\")\n",
    "for i in n:\n",
    "    if i % 3 == 0:\n",
    "        if i % 5 == 0:\n",
    "            i = 'FizzBuzz'\n",
    "        else:\n",
    "            i = 'Fizz'\n",
    "    elif i % 5 == 0:\n",
    "        i = 'Buzz'\n",
    "    print(i,end='\\t')\n",
    "# for i in range(1,101):\n",
    "#    print('Fizz'*(i%3 == 0)+'Buzz'*( i%5 == 0 ) or i) 이렇게 줄일수 있음"
   ]
  },
  {
   "cell_type": "code",
   "execution_count": 73,
   "id": "b161a0bc-3e1d-4544-9b20-dec0d621b387",
   "metadata": {},
   "outputs": [
    {
     "name": "stdout",
     "output_type": "stream",
     "text": [
      "실행 결과:\n",
      "m 또는 h가 이름에 포함된 사람은 3명입니다.\n"
     ]
    }
   ],
   "source": [
    "name_list = ['matthew','mark','luke','john','paul','peter']\n",
    "count = 0\n",
    "for i in name_list:\n",
    "    for j in range(len(i)):\n",
    "        if (i[j] == 'm') or (i[j] == 'h'):\n",
    "            count += 1\n",
    "            break\n",
    "print(f\"실행 결과:\\nm 또는 h가 이름에 포함된 사람은 {count}명입니다.\")"
   ]
  },
  {
   "cell_type": "code",
   "execution_count": 78,
   "id": "53030a5b-2978-4c2e-862a-a216cf588e75",
   "metadata": {},
   "outputs": [
    {
     "name": "stdout",
     "output_type": "stream",
     "text": [
      "실행 결과:\n",
      "m 또는 h가 이름에 포함된 사람은 3명입니다.\n"
     ]
    }
   ],
   "source": [
    "name_list = ['matthew','mark','luke','john','paul','peter']\n",
    "count = 0\n",
    "for i in name_list:\n",
    "    if ('m' in i) or ('h' in i):\n",
    "        count += 1\n",
    "print(f\"실행 결과:\\nm 또는 h가 이름에 포함된 사람은 {count}명입니다.\")"
   ]
  },
  {
   "cell_type": "code",
   "execution_count": 80,
   "id": "d4bb878f-3026-4ab2-bf42-14834cbbf3ff",
   "metadata": {},
   "outputs": [
    {
     "name": "stdout",
     "output_type": "stream",
     "text": [
      "1번 학생 축하합니다. 합격입니다.\n",
      "3번 학생 축하합니다. 합격입니다.\n",
      "5번 학생 축하합니다. 합격입니다.\n"
     ]
    }
   ],
   "source": [
    "marks=[90,25,67,45,80]\n",
    "j = 1\n",
    "for i in marks:\n",
    "    if i <= 60:\n",
    "        j += 1\n",
    "        continue\n",
    "    print(f\"{j}번 학생 축하합니다. 합격입니다.\")\n",
    "    j += 1"
   ]
  },
  {
   "cell_type": "code",
   "execution_count": 83,
   "id": "1274ff79-ec21-41c7-9b2f-c59ba3ff01eb",
   "metadata": {},
   "outputs": [
    {
     "name": "stdout",
     "output_type": "stream",
     "text": [
      "1번 학생 축하합니다. 합격입니다.\n",
      "3번 학생 축하합니다. 합격입니다.\n",
      "5번 학생 축하합니다. 합격입니다.\n"
     ]
    }
   ],
   "source": [
    "marks=[90,25,67,45,80]\n",
    "j = 0\n",
    "n = len(marks)\n",
    "while n > 0:\n",
    "    if marks[j] <= 60:\n",
    "        j += 1\n",
    "        n -= 1\n",
    "        continue\n",
    "    print(f\"{j+1}번 학생 축하합니다. 합격입니다.\")\n",
    "    j += 1\n",
    "    n -= 1"
   ]
  },
  {
   "cell_type": "code",
   "execution_count": 100,
   "id": "4fb1f5b8-77a0-4e3e-a2f0-e50b9cf84c1c",
   "metadata": {},
   "outputs": [
    {
     "name": "stdout",
     "output_type": "stream",
     "text": [
      "변환된 arr은 [3, 2, 4, 1] 입니다\n"
     ]
    }
   ],
   "source": [
    "arr = [1, 4, 2, 3]\n",
    "left,right = 0, len(arr) -1\n",
    "while left < (len(arr) // 2): # // 몫 !!!!!!!!!!!!!\n",
    "    arr[left], arr[right], = arr[right],arr[left]\n",
    "    left+=1\n",
    "    right-=1\n",
    "print(\"변환된 arr은\",arr,\"입니다\")"
   ]
  },
  {
   "cell_type": "code",
   "execution_count": 102,
   "id": "3c396464-557c-445a-b2ac-4967d6f12eb4",
   "metadata": {},
   "outputs": [
    {
     "name": "stdout",
     "output_type": "stream",
     "text": [
      "2x1=2\t3x1=3\t4x1=4\t5x1=5\t6x1=6\t7x1=7\t8x1=8\t9x1=9\t\n",
      "2x2=4\t3x2=6\t4x2=8\t5x2=10\t6x2=12\t7x2=14\t8x2=16\t9x2=18\t\n",
      "2x3=6\t3x3=9\t4x3=12\t5x3=15\t6x3=18\t7x3=21\t8x3=24\t9x3=27\t\n",
      "2x4=8\t3x4=12\t4x4=16\t5x4=20\t6x4=24\t7x4=28\t8x4=32\t9x4=36\t\n",
      "2x5=10\t3x5=15\t4x5=20\t5x5=25\t6x5=30\t7x5=35\t8x5=40\t9x5=45\t\n",
      "2x6=12\t3x6=18\t4x6=24\t5x6=30\t6x6=36\t7x6=42\t8x6=48\t9x6=54\t\n",
      "2x7=14\t3x7=21\t4x7=28\t5x7=35\t6x7=42\t7x7=49\t8x7=56\t9x7=63\t\n",
      "2x8=16\t3x8=24\t4x8=32\t5x8=40\t6x8=48\t7x8=56\t8x8=64\t9x8=72\t\n",
      "2x9=18\t3x9=27\t4x9=36\t5x9=45\t6x9=54\t7x9=63\t8x9=72\t9x9=81\t\n"
     ]
    }
   ],
   "source": [
    "for i in range(1,10):\n",
    "    for j in range(2,10):\n",
    "        print(f'{j}x{i}={i*j}',end='\\t')\n",
    "    print()"
   ]
  },
  {
   "cell_type": "code",
   "execution_count": 112,
   "id": "8d5b489a-bd98-42de-bb25-669560184c40",
   "metadata": {},
   "outputs": [
    {
     "name": "stdout",
     "output_type": "stream",
     "text": [
      "2x1=2\t3x1=3\t4x1=4\t5x1=5\t6x1=6\t7x1=7\t8x1=8\t9x1=9\t\n",
      "2x2=4\t3x2=6\t4x2=8\t5x2=10\t6x2=12\t7x2=14\t8x2=16\t9x2=18\t\n",
      "2x3=6\t3x3=9\t4x3=12\t5x3=15\t6x3=18\t7x3=21\t8x3=24\t9x3=27\t\n",
      "2x4=8\t3x4=12\t4x4=16\t5x4=20\t6x4=24\t7x4=28\t8x4=32\t9x4=36\t\n",
      "2x5=10\t3x5=15\t4x5=20\t5x5=25\t6x5=30\t7x5=35\t8x5=40\t9x5=45\t\n",
      "2x6=12\t3x6=18\t4x6=24\t5x6=30\t6x6=36\t7x6=42\t8x6=48\t9x6=54\t\n",
      "2x7=14\t3x7=21\t4x7=28\t5x7=35\t6x7=42\t7x7=49\t8x7=56\t9x7=63\t\n",
      "2x8=16\t3x8=24\t4x8=32\t5x8=40\t6x8=48\t7x8=56\t8x8=64\t9x8=72\t\n",
      "2x9=18\t3x9=27\t4x9=36\t5x9=45\t6x9=54\t7x9=63\t8x9=72\t9x9=81\t\n"
     ]
    }
   ],
   "source": [
    "i = 1\n",
    "j = 2\n",
    "n = 1\n",
    "while i < 10:\n",
    "    j = 2\n",
    "    while j < 10:\n",
    "        print(f'{j}x{i}={i*j}',end='\\t')\n",
    "        j += 1\n",
    "    print()\n",
    "    i += 1"
   ]
  },
  {
   "cell_type": "markdown",
   "id": "d7d53287-6279-4fca-a83e-d0fd759b103e",
   "metadata": {},
   "source": [
    "### Dictionary: 비 시퀀스 자료형이며, 인덱스를 갖지 않고 키와 값이 1대1 매칭됩니다.  \n",
    "### 중괄호를 활용하여 딕셔너리 자료형으르 생성하며 콤마로 구분지어 key-value로 등록할 수 있습니다.  \n",
    "### 키는 중복되지 않으며 중복되면 가장 최근에 넣은 key-value만 남습니다.  \n",
    "### 키는 문자열,정수,실수,불,튜플을 사용할 수 있지만, 리스트,딕셔너리,집합은 사용할 수 없고, 고유한 값을 가져야 합니다  \n",
    "### 값에는 모든 자료형을 사용할 수 있습니다, 빈 딕셔너리는 중괄호만 쓰거나 인자없이 dict()만 쓰면 가능함.  \n",
    "### zip()함수를 통하여 키와 값 한 쌍을 갖는 튜플을 요소로 갖는 객체로 딕셔너리를 생성할 수 있습니다. _for_in zip([key],[value]), zip함수는 서로 길이가 맞지 않더라도 알아서 같은 크기로 묶어줌  \n",
    "### 딕셔너리는 키로 리스트의 인덱스처럼 값에 접근할 수 있습니다.  \n",
    "### 딕셔너리에 없는 키를 활용하면 새로운 값을 할당할 수 있습니다.\n",
    "### print('key' in dict(b)):특정 키가 존재하는지?  True출력하게됨.  \n",
    "### del을 사용해 지울 수 있음"
   ]
  },
  {
   "cell_type": "code",
   "execution_count": 116,
   "id": "f560e462-8d73-4c30-a2a5-25b5189d0579",
   "metadata": {},
   "outputs": [
    {
     "name": "stdin",
     "output_type": "stream",
     "text": [
      "실행결과:\n",
      "과일 이름을 입력하세요. 사과\n"
     ]
    },
    {
     "name": "stdout",
     "output_type": "stream",
     "text": [
      "사과의 가격은 1000원입니다\n"
     ]
    }
   ],
   "source": [
    "app = input(\"실행결과:\\n과일 이름을 입력하세요.\")\n",
    "fruit = {'사과':1000,'바나나':700,'오렌지':1500,'파인애플':2000}\n",
    "if app in fruit:\n",
    "    print(f'{app}의 가격은 {fruit[app]}원입니다')"
   ]
  },
  {
   "cell_type": "code",
   "execution_count": 125,
   "id": "fadf3f8a-1f42-4674-bbec-e0d506636135",
   "metadata": {},
   "outputs": [
    {
     "name": "stdin",
     "output_type": "stream",
     "text": [
      "실행결과\n",
      "이름을 기입해주세요. 뽀로로 루피 크롱 스누피\n",
      "몸무게를 입력해주세요. 20.4 16.2 22.3 5.2\n"
     ]
    },
    {
     "name": "stdout",
     "output_type": "stream",
     "text": [
      "{'뽀로로': 20.4, '루피': 16.2, '크롱': 22.3, '스누피': 5.2}\n"
     ]
    }
   ],
   "source": [
    "names = input(\"실행결과\\n이름을 기입해주세요.\").split(\" \")\n",
    "weight = list(map(float,input(\"몸무게를 입력해주세요.\").split(\" \")))\n",
    "print(dict(zip(names,weight))) # zip으로 두 리스트를 묶은 다음, dictionary를 붙여서 변환시킨 후 출력"
   ]
  },
  {
   "cell_type": "markdown",
   "id": "5c1b778a-32cd-423d-94f7-ba987385a399",
   "metadata": {},
   "source": [
    "## zip을 안쓰고 for문으로 하나하나 딕셔너리에 추가하는 형식"
   ]
  },
  {
   "cell_type": "code",
   "execution_count": 128,
   "id": "07bb3d0e-d77d-4673-ae14-828b12236eb6",
   "metadata": {},
   "outputs": [
    {
     "name": "stdin",
     "output_type": "stream",
     "text": [
      "실행결과\n",
      "이름을 기입해주세요. 뽀로로 루피 크롱 스누피\n",
      "몸무게를 입력해주세요. 20.4 16.2 22.3 5.2\n"
     ]
    },
    {
     "name": "stdout",
     "output_type": "stream",
     "text": [
      "{'뽀로로': 20.4, '루피': 16.2, '크롱': 22.3, '스누피': 5.2}\n"
     ]
    }
   ],
   "source": [
    "# ['뽀로로', '루피', '크롱', '스누피']\n",
    "names = input(\"실행결과\\n이름을 기입해주세요.\").split()\n",
    "# map --> 20.2 16.2 22.3 5.2\n",
    "weight = list(map(float,input(\"몸무게를 입력해주세요.\").split()))\n",
    "dic = {}\n",
    "# len(name) = 4\n",
    "# i = 0,1,2,3\n",
    "for i in range(len(names)):\n",
    "    dic[names[i]] = weight[i]\n",
    "print(dic)"
   ]
  },
  {
   "cell_type": "markdown",
   "id": "b8d40e1b-cb71-4919-8dd7-3bc4732a5fe2",
   "metadata": {},
   "source": [
    "## 리스트 생성 방법- 문자열.split()  \n",
    "## 리스트 생성 방법- list(iterable), iterable은 반복되는 객체  \n",
    "## 리스트 comprehension은 []안에 표현식과 for문을 작성하여 사용할 수 있다. list_variable=[expression for 변수 in iterable]-expression은 활용해도되고 안해도됨  \n",
    "## **1.** iterable로부터 값을 꺼내와서 변수에 담습니다   **2.** 요소를 담은 변수를 활용하여 표현식을 실행   **3.** 결과 값을 리스트 요소에 넣습니다.   **4.** 1~3부터 반복  "
   ]
  },
  {
   "cell_type": "code",
   "execution_count": 136,
   "id": "e767b0b8-0ef7-4c4b-96aa-65be3420f9de",
   "metadata": {},
   "outputs": [
    {
     "name": "stdout",
     "output_type": "stream",
     "text": [
      "list_a: [1, 4, 9, 16, 25, 36, 49, 64, 81]\n",
      "Hello world\n",
      "Hello world\n",
      "Hello world\n",
      "Hello world\n",
      "Hello world\n",
      "Hello world\n",
      "Hello world\n",
      "Hello world\n",
      "Hello world\n",
      "Hello world\n",
      "list_b: [None, None, None, None, None, None, None, None, None, None]\n"
     ]
    }
   ],
   "source": [
    "# range:0,,,,9\n",
    "# a : 1,,,, 9\n",
    "list_a = [ a**2 for a in range(1,10)]\n",
    "print('list_a:',list_a)\n",
    "list_b = [print('Hello world') for b in range(10)]\n",
    "print('list_b:',list_b)"
   ]
  },
  {
   "cell_type": "code",
   "execution_count": 137,
   "id": "6306dda1-bd0e-42a3-a1cf-1dc108ced51f",
   "metadata": {},
   "outputs": [
    {
     "name": "stdout",
     "output_type": "stream",
     "text": [
      "<class 'list'>\n",
      "[1, 4, 9, 16, 25, 36, 49, 64, 81]\n"
     ]
    }
   ],
   "source": [
    "prac_result = [i**2 for i in range(1,10)]\n",
    "print(type(prac_result))\n",
    "print(prac_result)"
   ]
  }
 ],
 "metadata": {
  "kernelspec": {
   "display_name": "Python 3 (ipykernel)",
   "language": "python",
   "name": "python3"
  },
  "language_info": {
   "codemirror_mode": {
    "name": "ipython",
    "version": 3
   },
   "file_extension": ".py",
   "mimetype": "text/x-python",
   "name": "python",
   "nbconvert_exporter": "python",
   "pygments_lexer": "ipython3",
   "version": "3.9.13"
  }
 },
 "nbformat": 4,
 "nbformat_minor": 5
}
