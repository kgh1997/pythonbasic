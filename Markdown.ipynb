{
 "cells": [
  {
   "cell_type": "markdown",
   "id": "e1f45579-db56-4520-9f40-bfa5ee063604",
   "metadata": {},
   "source": [
    "# H1\n",
    "## H2\n",
    "### H3\n",
    "#### H4\n",
    "##### H5\n",
    "###### H6"
   ]
  },
  {
   "cell_type": "markdown",
   "id": "f96676d5-f470-4ab1-8462-6b01fa243f0e",
   "metadata": {},
   "source": [
    "# 1. 마크다운 학습\n",
    "# 1.1. "
   ]
  },
  {
   "cell_type": "markdown",
   "id": "c15801c5-35a9-493e-90dd-61e669093bb7",
   "metadata": {},
   "source": [
    "일반 텍스트는 그냥 입력하시면 됩니다.  \n",
    "**굵은 글씨**는 이렇게 사용합니다.  \n",
    "*기울인 글씨*는 이렇게 씁니다.  \n",
    "~~취소선은~~ 이렇게 씁니다."
   ]
  },
  {
   "cell_type": "markdown",
   "id": "2707323b-b69f-4de7-8f02-8c7c8a2e8b22",
   "metadata": {},
   "source": [
    ">구획이  \n",
    ">잡힌  \n",
    ">글입니다.  "
   ]
  },
  {
   "cell_type": "markdown",
   "id": "4d621c70-6ae7-41d2-a6f6-bcf83a6ef499",
   "metadata": {},
   "source": [
    "- 목록1\n",
    "- 목록2\n",
    "- 목록3"
   ]
  },
  {
   "cell_type": "markdown",
   "id": "5d08c1ae-4a65-43c4-b589-531fabb5529c",
   "metadata": {},
   "source": [
    "1. 순서가 있는 목록1  \n",
    "2. 순서가 있는 목록2  \n",
    "3. 순서가 있는 목록3  "
   ]
  },
  {
   "cell_type": "markdown",
   "id": "a3f0e0e7-c840-45cb-abe5-f9034db25fa4",
   "metadata": {},
   "source": [
    "[Google](https://www.google.com)"
   ]
  },
  {
   "cell_type": "markdown",
   "id": "28d990da-05b7-48bf-8137-ad58183a40c4",
   "metadata": {},
   "source": [
    "대괄호와소괄호-하이퍼링크"
   ]
  },
  {
   "cell_type": "markdown",
   "id": "725ddde9-accd-4960-b491-88cb0efbf108",
   "metadata": {},
   "source": [
    "이미지사용법, !대괄호와 소괄호(이미지 주소)"
   ]
  },
  {
   "cell_type": "markdown",
   "id": "ff4856ad-58ca-44cf-a445-5a7b1e9b1ec7",
   "metadata": {},
   "source": [
    "![이미지에 대한 설명](https://dimg.donga.com/wps/NEWS/IMAGE/2020/08/22/102591473.3.jpg)"
   ]
  },
  {
   "cell_type": "markdown",
   "id": "9b859f61-75b3-4580-98ed-b874f1b2fd77",
   "metadata": {},
   "source": [
    "|제목 셀|제목 셀|제목 셀|제목 셀|\n",
    "|--|--|:--:|:--|\n",
    "|값1|값2|값3|값4|"
   ]
  },
  {
   "cell_type": "markdown",
   "id": "d9d9b9df-073a-4d51-8315-b9af78dd5228",
   "metadata": {},
   "source": [
    "```python  \n",
    "    x = input(\"인사를 몇 번 할까요?\")\n",
    "\n",
    "    for _ in range(x):\n",
    "        print(\"Hello world\")\n",
    "```"
   ]
  },
  {
   "cell_type": "code",
   "execution_count": null,
   "id": "d0f2c062-0598-4308-8965-d73417383b86",
   "metadata": {},
   "outputs": [],
   "source": []
  }
 ],
 "metadata": {
  "kernelspec": {
   "display_name": "Python 3 (ipykernel)",
   "language": "python",
   "name": "python3"
  },
  "language_info": {
   "codemirror_mode": {
    "name": "ipython",
    "version": 3
   },
   "file_extension": ".py",
   "mimetype": "text/x-python",
   "name": "python",
   "nbconvert_exporter": "python",
   "pygments_lexer": "ipython3",
   "version": "3.9.13"
  }
 },
 "nbformat": 4,
 "nbformat_minor": 5
}
