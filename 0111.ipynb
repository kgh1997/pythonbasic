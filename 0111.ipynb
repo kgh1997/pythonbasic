{
 "cells": [
  {
   "cell_type": "code",
   "execution_count": 40,
   "id": "105d95e4-0e85-4e9c-8f4d-0574b2e0d236",
   "metadata": {},
   "outputs": [
    {
     "name": "stdout",
     "output_type": "stream",
     "text": [
      "실행 결과:\n",
      "김태형후보가 총 4표를 얻어 당선되었습니다.\n"
     ]
    }
   ],
   "source": [
    "votes = [2, 5, 3, 4, 1, 5, 1, 5, 5, 3]\n",
    "candidates = ['', '전정국', '김남준', '박지민', '정호석', '김태형']\n",
    "dic = {'전정국':0, '김남준':0, '박지민':0, '정호석':0, '김태형':0}\n",
    "for i in votes:\n",
    "    if i == 1:\n",
    "        dic['전정국'] += 1\n",
    "    elif i == 2:\n",
    "        dic['김남준'] += 1\n",
    "    elif i == 3:\n",
    "        dic['박지민'] += 1\n",
    "    elif i == 4:\n",
    "        dic['정호석'] += 1\n",
    "    elif i == 5:\n",
    "        dic['김태형'] += 1\n",
    "print(f'실행 결과:\\n{max(dic, key=dic.get)}후보가 총 {max(dic.values())}표를 얻어 당선되었습니다.')"
   ]
  },
  {
   "cell_type": "code",
   "execution_count": 56,
   "id": "14e066df-2b46-46bb-b749-741533ffc658",
   "metadata": {},
   "outputs": [
    {
     "name": "stdout",
     "output_type": "stream",
     "text": [
      "실행 결과:\n",
      "김태형후보가 총 4표를 얻어 당선되었습니다.\n"
     ]
    }
   ],
   "source": [
    "votes = [2, 5, 3, 4, 1, 5, 1, 5, 5, 3]\n",
    "candidates = ['', '전정국', '김남준', '박지민', '정호석', '김태형']\n",
    "num = [0,0,0,0,0,0]\n",
    "max_ = 0\n",
    "for i in votes:\n",
    "    if i == candidates.index('전정국'):\n",
    "        num[1]+=1\n",
    "    elif i == candidates.index('김남준'):\n",
    "        num[2]+=1\n",
    "    elif i == candidates.index('박지민'):\n",
    "        num[3]+=1\n",
    "    elif i == candidates.index('정호석'):\n",
    "        num[4]+=1\n",
    "    elif i == candidates.index('김태형'):\n",
    "        num[5]+=1\n",
    "for j in range(1,len(num)):\n",
    "    if (max_ <= num[j]):\n",
    "        max_ = num[j]\n",
    "print(f'실행 결과:\\n{candidates[num.index(max_)]}후보가 총 {max_}표를 얻어 당선되었습니다.')"
   ]
  },
  {
   "cell_type": "code",
   "execution_count": 61,
   "id": "02c07d3e-7de8-4a6c-9e47-240fd2787a49",
   "metadata": {},
   "outputs": [
    {
     "name": "stdout",
     "output_type": "stream",
     "text": [
      "김태형후보가 총 4표를 받아 당선되었습니다.\n"
     ]
    }
   ],
   "source": [
    "votes = [2, 5, 3, 4, 1, 5, 1, 5, 5, 3]\n",
    "candidates = ['', '전정국', '김남준', '박지민', '정호석', '김태형']\n",
    "counts = [0]*len(candidates)\n",
    "for vote in votes:\n",
    "    counts[vote] += 1\n",
    "i = 1\n",
    "max_count = 0\n",
    "elected_person = 0 # index용\n",
    "# 1, 2, 3, 4, 5\n",
    "while i < len(counts): # Len(counts) => 6\n",
    "    if max_count < counts[i]:\n",
    "        max_count = counts[i]\n",
    "        elected_person = i\n",
    "    i += 1\n",
    "print(f'{candidates[elected_person]}후보가 총 {max_count}표를 받아 당선되었습니다.')"
   ]
  },
  {
   "cell_type": "code",
   "execution_count": 65,
   "id": "fea037fe-4181-44fc-a434-7bd455846fee",
   "metadata": {},
   "outputs": [
    {
     "name": "stdout",
     "output_type": "stream",
     "text": [
      "[1, 3, 5, 7, 9]\n"
     ]
    }
   ],
   "source": [
    "prac_result2 = [a for a in range(1,10) if a % 2 != 0]\n",
    "print(prac_result2)"
   ]
  },
  {
   "cell_type": "code",
   "execution_count": 67,
   "id": "c139bd5b-364c-4142-9710-26767a8acefa",
   "metadata": {},
   "outputs": [
    {
     "name": "stdout",
     "output_type": "stream",
     "text": [
      "['a', 'b', 'c', 'd', 'e', 'f', 'g', 'h', 'i', 'j', 'k', 'l', 'm', 'n', 'o', 'p', 'q', 'r', 's', 't', 'u', 'v', 'w', 'x', 'y', 'z']\n"
     ]
    }
   ],
   "source": [
    "prac_result3 = [alpha for alpha in 'abcdefghijklmnopqrstuvwxyz']\n",
    "print(prac_result3)"
   ]
  },
  {
   "cell_type": "code",
   "execution_count": 76,
   "id": "ea5e4cd1-31ee-4906-b3cd-8707a5397b19",
   "metadata": {},
   "outputs": [
    {
     "name": "stdout",
     "output_type": "stream",
     "text": [
      "[2, 3, 4, 5, 6, 7, 8, 9, 10, 'J', 'Q', 'K', 'A']\n"
     ]
    }
   ],
   "source": [
    "prac_result4 = [i for i in list(range(2,11))+['J','Q','K','A']] # '+'쓰거나 [].extended[] 쓰면 됨\n",
    "print(prac_result4)"
   ]
  },
  {
   "cell_type": "code",
   "execution_count": 89,
   "id": "18eaf405-8aaa-414c-ba0d-bc377e8570fd",
   "metadata": {},
   "outputs": [
    {
     "name": "stdout",
     "output_type": "stream",
     "text": [
      "[['two', 3, 4, 5, 6, 7, 8, 9, 10, 'J', 'Q', 'K', 'A'], ['two', 3, 4, 5, 6, 7, 8, 9, 10, 'J', 'Q', 'K', 'A'], ['two', 3, 4, 5, 6, 7, 8, 9, 10, 'J', 'Q', 'K', 'A'], ['two', 3, 4, 5, 6, 7, 8, 9, 10, 'J', 'Q', 'K', 'A']]\n"
     ]
    }
   ],
   "source": [
    "prac_result5 = [prac_result4 for j in range(4)]\n",
    "print(prac_result5)"
   ]
  },
  {
   "cell_type": "code",
   "execution_count": 94,
   "id": "c97d4c26-259c-4980-a433-25973bfd7b66",
   "metadata": {},
   "outputs": [
    {
     "name": "stdout",
     "output_type": "stream",
     "text": [
      "[['two', 3, 4, 5, 6, 7, 8, 9, 10, 'J', 'Q', 'K', 'A'], ['two', 3, 4, 5, 6, 7, 8, 9, 10, 'J', 'Q', 'K', 'A'], ['two', 3, 4, 5, 6, 7, 8, 9, 10, 'J', 'Q', 'K', 'A'], ['two', 3, 4, 5, 6, 7, 8, 9, 10, 'J', 'Q', 'K', 'A']]\n"
     ]
    }
   ],
   "source": [
    "prac_result4[0] = 'two' ## 객체(memory를 차지한 것)를 담는 변수의 특징, 주소를 네 번 복사한 것이므로 바뀐것, id(a)= a의 주솟값 확인가능\n",
    "print(prac_result5)"
   ]
  },
  {
   "cell_type": "markdown",
   "id": "dbf95577-64c5-4e46-9316-cc00d9035c7e",
   "metadata": {},
   "source": [
    "### **id()** = 주소값 확인하는 내장함수, 값이 같으면 주소가 같기도 함, 기존 리스트의 전체 범위의 슬라이싱 결과는 새로운 객체"
   ]
  },
  {
   "cell_type": "code",
   "execution_count": 105,
   "id": "6ac7f15a-8107-443f-bb81-2dd182c2ee0c",
   "metadata": {},
   "outputs": [
    {
     "name": "stdout",
     "output_type": "stream",
     "text": [
      "prac_result4: 1765359718528\n",
      "prac_result5[0]: 1765359718528\n",
      "prac_result5[1]: 1765359718528\n",
      "prac_result5[2]: 1765359718528\n",
      "prac_result5[3]: 1765359718528\n"
     ]
    }
   ],
   "source": [
    "print('prac_result4:',id(prac_result4))\n",
    "for i in range(4):\n",
    "    print(f'prac_result5[{i}]:',id(prac_result5[i]))"
   ]
  },
  {
   "cell_type": "code",
   "execution_count": 104,
   "id": "f5140f1f-587d-4ce3-9ea6-265b1bbfd28c",
   "metadata": {},
   "outputs": [
    {
     "name": "stdout",
     "output_type": "stream",
     "text": [
      "prac_result6[0]: 1765359688896\n",
      "prac_result6[1]: 1765359721600\n",
      "prac_result6[2]: 1765358700544\n",
      "prac_result6[3]: 1765358692096\n"
     ]
    }
   ],
   "source": [
    "prac_result6 = [prac_result4[:] for i in range(4)]\n",
    "for i in range(4):\n",
    "    print(f'prac_result6[{i}]:',id(prac_result6[i]))"
   ]
  },
  {
   "cell_type": "code",
   "execution_count": 109,
   "id": "079d9d2a-4f94-4e36-8a25-af70e15cb208",
   "metadata": {},
   "outputs": [
    {
     "name": "stdout",
     "output_type": "stream",
     "text": [
      "1765359718912\n",
      "1765359755840\n",
      "False\n",
      "True\n"
     ]
    }
   ],
   "source": [
    "old_list = list(range(10)) ## is는 주소값 비교, ==는 값 자체를 비교, str과 tuple은 불변의 특징이므로 연산자의 결과가 다를 수 있다.\n",
    "new_list = old_list[:] ## java에서는 ==도 is처럼 쓰임, 그래서 equals를 써야함\n",
    "\n",
    "print(id(old_list))\n",
    "print(id(new_list))\n",
    "print(old_list is new_list)\n",
    "print(old_list == new_list)"
   ]
  },
  {
   "cell_type": "code",
   "execution_count": 148,
   "id": "27a493d5-df9c-4db4-a7a3-a28a7571720e",
   "metadata": {
    "tags": []
   },
   "outputs": [
    {
     "name": "stdin",
     "output_type": "stream",
     "text": [
      "실행 결과:\n",
      "순환할 숫자를 입력하세요: 15\n"
     ]
    },
    {
     "name": "stdout",
     "output_type": "stream",
     "text": [
      "1\t2\t3\t4\t5\t6\t7\t8\t9\t10\t11\t12\t13\t14\t15\t\n",
      "2\t3\t4\t5\t6\t7\t8\t9\t10\t11\t12\t13\t14\t15\t1\t\n",
      "3\t4\t5\t6\t7\t8\t9\t10\t11\t12\t13\t14\t15\t1\t2\t\n",
      "4\t5\t6\t7\t8\t9\t10\t11\t12\t13\t14\t15\t1\t2\t3\t\n",
      "5\t6\t7\t8\t9\t10\t11\t12\t13\t14\t15\t1\t2\t3\t4\t\n",
      "6\t7\t8\t9\t10\t11\t12\t13\t14\t15\t1\t2\t3\t4\t5\t\n",
      "7\t8\t9\t10\t11\t12\t13\t14\t15\t1\t2\t3\t4\t5\t6\t\n",
      "8\t9\t10\t11\t12\t13\t14\t15\t1\t2\t3\t4\t5\t6\t7\t\n",
      "9\t10\t11\t12\t13\t14\t15\t1\t2\t3\t4\t5\t6\t7\t8\t\n",
      "10\t11\t12\t13\t14\t15\t1\t2\t3\t4\t5\t6\t7\t8\t9\t\n",
      "11\t12\t13\t14\t15\t1\t2\t3\t4\t5\t6\t7\t8\t9\t10\t\n",
      "12\t13\t14\t15\t1\t2\t3\t4\t5\t6\t7\t8\t9\t10\t11\t\n",
      "13\t14\t15\t1\t2\t3\t4\t5\t6\t7\t8\t9\t10\t11\t12\t\n",
      "14\t15\t1\t2\t3\t4\t5\t6\t7\t8\t9\t10\t11\t12\t13\t\n",
      "15\t1\t2\t3\t4\t5\t6\t7\t8\t9\t10\t11\t12\t13\t14\t\n"
     ]
    }
   ],
   "source": [
    "n = int(input(\"실행 결과:\\n순환할 숫자를 입력하세요:\"))\n",
    "k = 1\n",
    "num = list(range(1,n+1)) # 1~10\n",
    "for i in range(1,n+1):\n",
    "    for j in range(0,n):\n",
    "        print(num[j],end='\\t')\n",
    "    num.remove(k)\n",
    "    num.append(k)\n",
    "    print()\n",
    "    k += 1"
   ]
  },
  {
   "cell_type": "code",
   "execution_count": 150,
   "id": "e00005bb-5e3d-44b8-ae27-fce8d8a8088a",
   "metadata": {},
   "outputs": [
    {
     "name": "stdin",
     "output_type": "stream",
     "text": [
      "실행 결과:\n",
      "순환할 숫자를 입력하세요: 15\n"
     ]
    },
    {
     "name": "stdout",
     "output_type": "stream",
     "text": [
      "1\t2\t3\t4\t5\t6\t7\t8\t9\t10\t11\t12\t13\t14\t15\t\n",
      "2\t3\t4\t5\t6\t7\t8\t9\t10\t11\t12\t13\t14\t15\t1\t\n",
      "3\t4\t5\t6\t7\t8\t9\t10\t11\t12\t13\t14\t15\t1\t2\t\n",
      "4\t5\t6\t7\t8\t9\t10\t11\t12\t13\t14\t15\t1\t2\t3\t\n",
      "5\t6\t7\t8\t9\t10\t11\t12\t13\t14\t15\t1\t2\t3\t4\t\n",
      "6\t7\t8\t9\t10\t11\t12\t13\t14\t15\t1\t2\t3\t4\t5\t\n",
      "7\t8\t9\t10\t11\t12\t13\t14\t15\t1\t2\t3\t4\t5\t6\t\n",
      "8\t9\t10\t11\t12\t13\t14\t15\t1\t2\t3\t4\t5\t6\t7\t\n",
      "9\t10\t11\t12\t13\t14\t15\t1\t2\t3\t4\t5\t6\t7\t8\t\n",
      "10\t11\t12\t13\t14\t15\t1\t2\t3\t4\t5\t6\t7\t8\t9\t\n",
      "11\t12\t13\t14\t15\t1\t2\t3\t4\t5\t6\t7\t8\t9\t10\t\n",
      "12\t13\t14\t15\t1\t2\t3\t4\t5\t6\t7\t8\t9\t10\t11\t\n",
      "13\t14\t15\t1\t2\t3\t4\t5\t6\t7\t8\t9\t10\t11\t12\t\n",
      "14\t15\t1\t2\t3\t4\t5\t6\t7\t8\t9\t10\t11\t12\t13\t\n",
      "15\t1\t2\t3\t4\t5\t6\t7\t8\t9\t10\t11\t12\t13\t14\t\n"
     ]
    }
   ],
   "source": [
    "# 다른 버전\n",
    "num = int(input(\"실행 결과:\\n순환할 숫자를 입력하세요:\"))\n",
    "#num = list(range(1,n+1)) # 1~입력한 수까지\n",
    "for i in range(1,n+1):\n",
    "    for j in range(i,n+i):\n",
    "        if j % num == 0:\n",
    "            print(num,end='\\t')\n",
    "        else:\n",
    "            print(j % num, end='\\t')\n",
    "    print()"
   ]
  },
  {
   "cell_type": "markdown",
   "id": "c5c2a8f8-739d-41cc-96a8-3eb9086f7440",
   "metadata": {},
   "source": [
    "## copy() method  \n",
    "## 얕은 복사(copy(),*,슬라이싱)"
   ]
  },
  {
   "cell_type": "code",
   "execution_count": 158,
   "id": "19794a50-718e-43a7-8c13-cf82d8f83b3e",
   "metadata": {},
   "outputs": [
    {
     "name": "stdout",
     "output_type": "stream",
     "text": [
      "[[0], [0], [0]]\n",
      "[[999], [999], [999]]\n"
     ]
    }
   ],
   "source": [
    "list_i = [[0]]*3 ## [0]의 주소를 세번 복사, 리스트 안의 리스트는 변수가 아니라 주소로 가짐\n",
    "print(list_i)\n",
    "list_i[0][0] = 999\n",
    "print(list_i)"
   ]
  },
  {
   "cell_type": "code",
   "execution_count": 160,
   "id": "7b8ed9c7-3ab5-4a8e-9cd2-bc7562da4c15",
   "metadata": {},
   "outputs": [
    {
     "name": "stdout",
     "output_type": "stream",
     "text": [
      "False\n",
      "True\n"
     ]
    }
   ],
   "source": [
    "print(list_k is list_a)\n",
    "print(list_a[0] is list_k[0])"
   ]
  },
  {
   "cell_type": "markdown",
   "id": "c7e1cdfc-4e32-43d7-957d-8af6e63e3622",
   "metadata": {},
   "source": [
    "## 깊은 복사(Deep copy) ==> 외부의 코드를 쓸 일이 있을 때, 서로 다른 객체로 됨"
   ]
  },
  {
   "cell_type": "code",
   "execution_count": 162,
   "id": "6436dc15-5667-44fc-815c-dfee68acea85",
   "metadata": {},
   "outputs": [
    {
     "name": "stdout",
     "output_type": "stream",
     "text": [
      "False\n"
     ]
    }
   ],
   "source": [
    "import copy\n",
    "list_n = [[9,10],[11,12]]\n",
    "list_o = copy.deepcopy(list_n)\n",
    "print(list_n[0] is list_o[0])"
   ]
  },
  {
   "cell_type": "code",
   "execution_count": 165,
   "id": "4ff40e9b-54ec-48b6-9f02-3c7ae57a8327",
   "metadata": {},
   "outputs": [
    {
     "data": {
      "text/plain": [
       "2"
      ]
     },
     "execution_count": 165,
     "metadata": {},
     "output_type": "execute_result"
    }
   ],
   "source": [
    "e = [[1,2],[1,2,3,4,5]]\n",
    "len(e)"
   ]
  },
  {
   "cell_type": "markdown",
   "id": "d3fcd59e-e8e2-42c6-beed-3fa9b3544869",
   "metadata": {},
   "source": [
    "### 튜플 메소드: index(요소)-첫번째로 일치한 요소 인덱스  \n",
    "### count(요소): 일치하는 요소의 총 개수"
   ]
  },
  {
   "cell_type": "markdown",
   "id": "f14e150c-742c-45d7-965e-bc384ae06700",
   "metadata": {},
   "source": [
    "### 소괄호로 컴프리헨션하면 튜플이 아니라 제너레이터가 됨"
   ]
  },
  {
   "cell_type": "code",
   "execution_count": 168,
   "id": "fcb35ea5-60df-4a42-bc2e-b7ac653e03fb",
   "metadata": {},
   "outputs": [
    {
     "name": "stdout",
     "output_type": "stream",
     "text": [
      "['alpha', 'bravo', 'delta', 'hotel', 'india']\n"
     ]
    }
   ],
   "source": [
    "# 리스트에서 특정 요소만 뽑아내기, 문자열 중 길이가 5인것들을 리스트로 출력\n",
    "a = ['alpha', 'bravo', 'charlie', 'delta', 'echo', 'foxtrot', 'golf', 'hotel', 'india']\n",
    "b = [_ for _ in a if len(_) == 5]\n",
    "print(b)"
   ]
  },
  {
   "cell_type": "code",
   "execution_count": 182,
   "id": "3cc0e19f-f217-47f9-84b9-92d09bbc100f",
   "metadata": {},
   "outputs": [
    {
     "name": "stdin",
     "output_type": "stream",
     "text": [
      "실행 결과:\n",
      "정수 두 개 입력하세요: 99 1\n"
     ]
    },
    {
     "name": "stdout",
     "output_type": "stream",
     "text": [
      "첫 번째 입력 값의 범위는 1~20입니다.\n"
     ]
    },
    {
     "name": "stdin",
     "output_type": "stream",
     "text": [
      "정수 두 개 입력하세요: 10 1\n"
     ]
    },
    {
     "name": "stdout",
     "output_type": "stream",
     "text": [
      "두 번째 입력 값의 범위는 10~30입니다.\n"
     ]
    },
    {
     "name": "stdin",
     "output_type": "stream",
     "text": [
      "정수 두 개 입력하세요: 20 10\n"
     ]
    },
    {
     "name": "stdout",
     "output_type": "stream",
     "text": [
      "첫 번째 입력 값은 두 번째 입력 값보다 작게 입력하세요.\n"
     ]
    },
    {
     "name": "stdin",
     "output_type": "stream",
     "text": [
      "정수 두 개 입력하세요: 10 20\n"
     ]
    },
    {
     "name": "stdout",
     "output_type": "stream",
     "text": [
      "[1024, 4096, 8192, 16384, 32768, 65536, 131072, 262144, 1048576]\n"
     ]
    }
   ],
   "source": [
    "n1,n2 = list(map(int,input('실행 결과:\\n정수 두 개 입력하세요:').split())) # 1,10\n",
    "while ((n1 < 1) or (n1 > 20)) or ((n2 < 10) or (n2 > 30)) or (n1>n2):\n",
    "    if (n1 < 1) or (n1 > 20):\n",
    "        print('첫 번째 입력 값의 범위는 1~20입니다.')\n",
    "        n1,n2 = list(map(int,input('정수 두 개 입력하세요:').split()))\n",
    "    elif (n2 < 10) or (n2 > 30):\n",
    "        print('두 번째 입력 값의 범위는 10~30입니다.')\n",
    "        n1,n2 = list(map(int,input('정수 두 개 입력하세요:').split()))\n",
    "    else:\n",
    "        print('첫 번째 입력 값은 두 번째 입력 값보다 작게 입력하세요.')\n",
    "        n1,n2 = list(map(int,input('정수 두 개 입력하세요:').split()))\n",
    "num_ = [a for a in range(n1,(n2+1))] \n",
    "num = [2**_ for _ in num_]\n",
    "del num[1]\n",
    "del num[len(num)-2]\n",
    "print(num)"
   ]
  },
  {
   "cell_type": "code",
   "execution_count": 202,
   "id": "7242a68e-6a2b-4bf7-b8fc-78c6f6dbf3d8",
   "metadata": {},
   "outputs": [
    {
     "name": "stdout",
     "output_type": "stream",
     "text": [
      "실행 결과:\n",
      "-1 +4 -9 +16 -25 +36 -49 +64 -81 +100 \n",
      "-121 +144 -169 +196 -225 +256 -289 +324 -361 +400 \n",
      "-441 +484 -529 +576 -625 +676 -729 +784 -841 +900 \n",
      "-961 +1024 -1089 +1156 -1225 +1296 -1369 +1444 -1521 +1600 \n",
      "-1681 +1764 -1849 +1936 -2025 +2116 -2209 +2304 -2401 +2500 \n",
      "-2601 +2704 -2809 +2916 -3025 +3136 -3249 +3364 -3481 +3600 \n",
      "-3721 +3844 -3969 +4096 -4225 +4356 -4489 +4624 -4761 +4900 \n",
      "-5041 +5184 -5329 +5476 -5625 +5776 -5929 +6084 -6241 +6400 \n",
      "-6561 +6724 -6889 +7056 -7225 +7396 -7569 +7744 -7921 +8100 \n",
      "-8281 +8464 -8649 +8836 -9025 +9216 -9409 +9604 -9801 +10000 \n",
      "= 5050입니다.\n"
     ]
    }
   ],
   "source": [
    "num = [_ for _ in range(1,101)]\n",
    "total = 0\n",
    "line_num = 1\n",
    "print('실행 결과:')\n",
    "for i in num: # i 1~100\n",
    "    num_num = i**2 # 제곱수\n",
    "    if i % 2!=0:\n",
    "        total -= num_num\n",
    "        print(f'-{num_num}',end=' ')\n",
    "    else:\n",
    "        total += num_num\n",
    "        print(f'+{num_num}',end=' ')\n",
    "    if line_num % 10 == 0:\n",
    "        print()\n",
    "        if line_num == 100:\n",
    "            print(f'= {total}입니다.')\n",
    "    line_num += 1"
   ]
  },
  {
   "cell_type": "markdown",
   "id": "4df93e16-e2fe-473e-9cb2-d797e9ca81a7",
   "metadata": {},
   "source": [
    "## random(): 0 ~ 1 사이의 랜덤/ uniform(start,stop): start부터 stop미만의 랜덤 실수/ randint(start,stop): start부터 stop이하의 랜덤 정수  \n",
    "## randrange(start,stop,step): start부터 stop-1까지 step만큼의 증감의 수 중 랜덤의 수 반환  \n",
    "## choice(list): 해당 시퀀스 자료형 중에 랜덤으로 하나 반환/ sample(list,n): 해당 시퀀스 중에 랜덤으로 n개를 뽑아서 반환/ shuffle(): 해당 시퀀스 자료를 무작위로 섞음, 값 반환은 안됨"
   ]
  },
  {
   "cell_type": "code",
   "execution_count": null,
   "id": "d018b700-0e6d-401e-8dc6-514a002ace73",
   "metadata": {},
   "outputs": [],
   "source": []
  }
 ],
 "metadata": {
  "kernelspec": {
   "display_name": "Python 3 (ipykernel)",
   "language": "python",
   "name": "python3"
  },
  "language_info": {
   "codemirror_mode": {
    "name": "ipython",
    "version": 3
   },
   "file_extension": ".py",
   "mimetype": "text/x-python",
   "name": "python",
   "nbconvert_exporter": "python",
   "pygments_lexer": "ipython3",
   "version": "3.9.13"
  }
 },
 "nbformat": 4,
 "nbformat_minor": 5
}
