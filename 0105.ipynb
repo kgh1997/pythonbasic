{
 "cells": [
  {
   "cell_type": "code",
   "execution_count": 1,
   "id": "772afcf5-881b-40bd-90a9-b33d0b08bd0d",
   "metadata": {},
   "outputs": [
    {
     "name": "stdout",
     "output_type": "stream",
     "text": [
      "False\n"
     ]
    }
   ],
   "source": [
    "# [국어, 영어, 한국사, 선택1, 선택2]\n",
    "scores = [88, 73, 89, 59, 77]\n",
    "f = scores[0]>=60 & scores[1]>=60 & scores[2]>=60 & scores[3]>=60 & scores[4]>=60\n",
    "print(f)"
   ]
  },
  {
   "cell_type": "markdown",
   "id": "ea07278f-2534-40c6-8859-e9695bb4860d",
   "metadata": {},
   "source": [
    "# 리스트 메소드"
   ]
  },
  {
   "cell_type": "markdown",
   "id": "e86bf033-3763-42d4-8cc1-dd2acee05448",
   "metadata": {},
   "source": [
    "### append 리스트 맨 뒤에 요소 추가"
   ]
  },
  {
   "cell_type": "code",
   "execution_count": 63,
   "id": "8a81e5e8-d728-473e-96e6-ad6167efc9a2",
   "metadata": {},
   "outputs": [
    {
     "data": {
      "text/plain": [
       "[1, 2, 3, 4, 5, 6, 7, 8]"
      ]
     },
     "execution_count": 63,
     "metadata": {},
     "output_type": "execute_result"
    }
   ],
   "source": [
    "numbers=[1,2,3,4,5,6,7]\n",
    "numbers.append(8)\n",
    "numbers"
   ]
  },
  {
   "cell_type": "markdown",
   "id": "76657632-a9bf-4e36-aea1-31df22f8feb8",
   "metadata": {},
   "source": [
    "### insert(인덱스,요소) 리스트의 원하는 인덱스에 요소를 삽입"
   ]
  },
  {
   "cell_type": "code",
   "execution_count": 64,
   "id": "f25391c2-01ff-4df1-bf34-2e5ebdb2982d",
   "metadata": {},
   "outputs": [
    {
     "name": "stdout",
     "output_type": "stream",
     "text": [
      "[0, 1, 2, 3, 0, 4, 0, 5, 6, 7, 8, 0]\n"
     ]
    }
   ],
   "source": [
    "numbers.insert(0,0)\n",
    "numbers.insert(4,0)\n",
    "numbers.insert(6,0)\n",
    "numbers.insert(len(numbers),0)\n",
    "print(numbers)"
   ]
  },
  {
   "cell_type": "markdown",
   "id": "1d5cccc3-9323-40cc-bf30-96b8d5aaca14",
   "metadata": {},
   "source": [
    "### 리스트1.extend(리스트2) 리스트1맨 뒤로 리스트2요소 삽입, 여러개 삽입"
   ]
  },
  {
   "cell_type": "code",
   "execution_count": 65,
   "id": "d74d80df-0f2c-4784-81fe-e3bd8a121d9c",
   "metadata": {},
   "outputs": [
    {
     "name": "stdout",
     "output_type": "stream",
     "text": [
      "[0, 1, 2, 3, 0, 4, 0, 5, 6, 7, 8, 0, 1997, 11, 27, 28]\n"
     ]
    }
   ],
   "source": [
    "numbers.extend([1997,11])\n",
    "numbers.extend([27,28])\n",
    "print(numbers)"
   ]
  },
  {
   "cell_type": "markdown",
   "id": "4e7776ad-ce61-44de-81e6-357f0f76b982",
   "metadata": {},
   "source": [
    "### 리스트.remove(요소) 리스트[요소]에 해당하는 첫 요소를 제거"
   ]
  },
  {
   "cell_type": "code",
   "execution_count": 66,
   "id": "f5d6283e-61c2-4b53-83f2-dfb4f35fe477",
   "metadata": {},
   "outputs": [
    {
     "name": "stdout",
     "output_type": "stream",
     "text": [
      "[0, 1, 2, 3, 0, 4, 0, 5, 6, 7, 8, 0, 11, 27, 28]\n"
     ]
    }
   ],
   "source": [
    "numbers.remove(1997)\n",
    "print(numbers)"
   ]
  },
  {
   "cell_type": "markdown",
   "id": "b7848561-2722-42fa-92ac-b56adbba2e97",
   "metadata": {},
   "source": [
    "### 리스트.pop() 리스트 제일 마지막 요소를 리스트에서 제거합니다. 제거한 요소가 반환됩니다"
   ]
  },
  {
   "cell_type": "code",
   "execution_count": 67,
   "id": "a02a1385-aca1-45f5-8c2b-3276a7294d80",
   "metadata": {},
   "outputs": [
    {
     "name": "stdout",
     "output_type": "stream",
     "text": [
      "28\n",
      "[0, 1, 2, 3, 0, 4, 0, 5, 6, 7, 8, 0, 11, 27]\n"
     ]
    }
   ],
   "source": [
    "print(numbers.pop())\n",
    "print(numbers)"
   ]
  },
  {
   "cell_type": "markdown",
   "id": "b08e5ad8-da5e-4873-a239-92b85b5fe026",
   "metadata": {},
   "source": [
    "### 리스트.index(인자) 리스트에서 순서대로 인자와 요소가 같은 것을 찾습니다. 첫번째로 발견된 요소의 인덱스를 반환합니다."
   ]
  },
  {
   "cell_type": "code",
   "execution_count": 69,
   "id": "8324351a-c11f-4693-8d28-37a4a7bfff98",
   "metadata": {},
   "outputs": [
    {
     "name": "stdout",
     "output_type": "stream",
     "text": [
      "7\n"
     ]
    }
   ],
   "source": [
    "print(numbers.index(5))"
   ]
  },
  {
   "cell_type": "markdown",
   "id": "77557882-3dd9-4d43-b042-4d55e8bea0fa",
   "metadata": {},
   "source": [
    "### 리스트.count(인자) 인자와 같은 것의 개수를 반환합니다"
   ]
  },
  {
   "cell_type": "code",
   "execution_count": 70,
   "id": "4e25ccf8-13e9-4845-be4f-08b5756fa998",
   "metadata": {},
   "outputs": [
    {
     "name": "stdout",
     "output_type": "stream",
     "text": [
      "4\n"
     ]
    }
   ],
   "source": [
    "print(numbers.count(0))"
   ]
  },
  {
   "cell_type": "markdown",
   "id": "a17b5e0d-9879-41ba-90b3-a8ff4ac133d4",
   "metadata": {},
   "source": [
    "### 리스트.sort() 리스트 요소를 순서대로 정렬합니다.  \n",
    "### 리스트.reverse() 리스트 요소를 역순으로 정렬합니다.  \n",
    "### 반환 값은 둘 다 None"
   ]
  },
  {
   "cell_type": "code",
   "execution_count": 71,
   "id": "53354db2-e4e8-41cf-a56d-5b9b291d9c14",
   "metadata": {},
   "outputs": [
    {
     "name": "stdout",
     "output_type": "stream",
     "text": [
      "None\n",
      "[0, 0, 0, 0, 1, 2, 3, 4, 5, 6, 7, 8, 11, 27]\n",
      "None\n"
     ]
    },
    {
     "data": {
      "text/plain": [
       "[27, 11, 8, 7, 6, 5, 4, 3, 2, 1, 0, 0, 0, 0]"
      ]
     },
     "execution_count": 71,
     "metadata": {},
     "output_type": "execute_result"
    }
   ],
   "source": [
    "print(numbers.sort())\n",
    "print(numbers)\n",
    "print(numbers.reverse())\n",
    "numbers"
   ]
  },
  {
   "cell_type": "markdown",
   "id": "e97bc794-0374-418c-91d9-3e99e6b02bd1",
   "metadata": {},
   "source": [
    "### stack Last in, Last out"
   ]
  },
  {
   "cell_type": "markdown",
   "id": "04f4a00d-64f9-40d7-ae86-234fba9e9472",
   "metadata": {},
   "source": [
    "### 튜플  \n",
    " - 리스트와 거의 유사하지만, 수정이 불가하며 불변의 특징을 가집니다.  \n",
    " - 소괄호 사이에 요소들을 콤마로 구분지어 작성하며 소괄호는 생략 가능합니다.  \n",
    " - 인덱싱,슬라이싱,더하기,곱하기,길이도 구할 수 있습니다."
   ]
  },
  {
   "cell_type": "code",
   "execution_count": 72,
   "id": "7fbbea94-2cdc-454d-b56f-201059b24c46",
   "metadata": {},
   "outputs": [
    {
     "data": {
      "text/plain": [
       "(1, 2, 3, 4, 'A', 'B')"
      ]
     },
     "execution_count": 72,
     "metadata": {},
     "output_type": "execute_result"
    }
   ],
   "source": [
    "tuple_variable = (1,2,3,4,\"A\",\"B\")\n",
    "tuple_variable"
   ]
  },
  {
   "cell_type": "code",
   "execution_count": 73,
   "id": "aa79a2f5-552c-4390-9dd2-9d8331d454ef",
   "metadata": {},
   "outputs": [
    {
     "data": {
      "text/plain": [
       "tuple"
      ]
     },
     "execution_count": 73,
     "metadata": {},
     "output_type": "execute_result"
    }
   ],
   "source": [
    "tuplev = \"음\",\"오\",\"아\",\"예\"\n",
    "type(tuplev)"
   ]
  },
  {
   "cell_type": "markdown",
   "id": "b5b57855-547a-4ed7-806f-9f147ce76046",
   "metadata": {},
   "source": [
    "### 튜플과 리스트의 소요시간 비교"
   ]
  },
  {
   "cell_type": "code",
   "execution_count": 74,
   "id": "6751a622-6050-417f-a65f-9b0108b11485",
   "metadata": {},
   "outputs": [
    {
     "name": "stdout",
     "output_type": "stream",
     "text": [
      "0.159165620803833\n"
     ]
    }
   ],
   "source": [
    "import time\n",
    "\n",
    "curr = time.time() # 시작 시간\n",
    "total = []\n",
    "for i in range(1000):\n",
    "    for j in range(1000):\n",
    "        total.append((i,j)) # 튜플 생성\n",
    "last = time.time() # 끝난 시간\n",
    "print(last - curr)"
   ]
  },
  {
   "cell_type": "code",
   "execution_count": 75,
   "id": "9ca156f0-6fe1-4854-9cc2-3a1bcd377968",
   "metadata": {},
   "outputs": [
    {
     "name": "stdout",
     "output_type": "stream",
     "text": [
      "0.5136287212371826\n"
     ]
    }
   ],
   "source": [
    "curr = time.time()\n",
    "total = []\n",
    "for i in range(1000):\n",
    "    for j in range(1000):\n",
    "        total.append([i,j]) # 리스트 생성\n",
    "last = time.time()\n",
    "print(last - curr)"
   ]
  },
  {
   "cell_type": "markdown",
   "id": "bc7c7fc6-bcb1-449d-87f5-340c233dcb3f",
   "metadata": {},
   "source": [
    "### 변수 여럿에 동시 할당하기 (Unpacking)"
   ]
  },
  {
   "cell_type": "code",
   "execution_count": 76,
   "id": "76dc05c2-ef75-4f33-b610-c1939872601d",
   "metadata": {},
   "outputs": [
    {
     "name": "stdout",
     "output_type": "stream",
     "text": [
      "5 11\n",
      "<class 'int'>\n"
     ]
    }
   ],
   "source": [
    "x1,x2=5,11\n",
    "print(x1,x2)\n",
    "print(type(x1))"
   ]
  },
  {
   "cell_type": "markdown",
   "id": "dac06bb3-4c2e-44d1-989e-0bcb816b5984",
   "metadata": {},
   "source": [
    "### 튜플 외에 다른 자료형도 가능합니다"
   ]
  },
  {
   "cell_type": "code",
   "execution_count": 77,
   "id": "809bfcfb-84a0-41be-b888-9a5ac18a4f7d",
   "metadata": {},
   "outputs": [
    {
     "name": "stdout",
     "output_type": "stream",
     "text": [
      "이렇게 리스트도 가능합니다\n",
      "<class 'str'>\n"
     ]
    }
   ],
   "source": [
    "s3,s4,s5=[\"이렇게\",\"리스트도\",\"가능합니다\"]\n",
    "print(s3,s4,s5)\n",
    "print(type(s3))"
   ]
  },
  {
   "cell_type": "code",
   "execution_count": 78,
   "id": "b51a8af8-5e4c-4364-8494-22a6d9ff2bfe",
   "metadata": {},
   "outputs": [
    {
     "name": "stdout",
     "output_type": "stream",
     "text": [
      "문 자 열 도\n",
      "<class 'str'>\n"
     ]
    }
   ],
   "source": [
    "s6,s7,s8,s9=\"문자열도\"\n",
    "print(s6,s7,s8,s9)\n",
    "print(type(s8))"
   ]
  },
  {
   "cell_type": "markdown",
   "id": "6f0b3eb4-0f91-48d2-9627-4388f0e62495",
   "metadata": {},
   "source": [
    "### input() 내장 함수를 사용해서 사용자로부터 값을 받아올 수 있습니다.  \n",
    "### 이 때 받아온 값은 문자열로 받습니다.  \n",
    "### input(\"메시지\") →  return 사용자가 입력한 값(str)"
   ]
  },
  {
   "cell_type": "code",
   "execution_count": 79,
   "id": "0d3719fa-0736-4708-aaeb-9fcfb7f8ca52",
   "metadata": {},
   "outputs": [
    {
     "name": "stdin",
     "output_type": "stream",
     "text": [
      "message: 1.515\n"
     ]
    },
    {
     "name": "stdout",
     "output_type": "stream",
     "text": [
      "1.515 \n",
      " <class 'str'>\n"
     ]
    }
   ],
   "source": [
    "a=input(\"message:\")\n",
    "print(a,\"\\n\",type(a)) # 소수를 입력할 때 (1.51)을 정수로 변환하려면 에러가 발생합니다, 억지로 만드려면 먼저 float으로 받고 int 사용"
   ]
  },
  {
   "cell_type": "code",
   "execution_count": 57,
   "id": "99564016-9271-4f7b-bf5f-dcec7e089f2d",
   "metadata": {},
   "outputs": [
    {
     "name": "stdin",
     "output_type": "stream",
     "text": [
      "이름을 입력하시오: 엔코아\n"
     ]
    },
    {
     "name": "stdout",
     "output_type": "stream",
     "text": [
      "엔코아 씨, 안녕하세요?\n",
      "파이썬에 오신 것을 환영합니다.\n"
     ]
    },
    {
     "name": "stdin",
     "output_type": "stream",
     "text": [
      "첫번째 정수를 입력하세요: 300\n",
      "두번째 정수를 입력하세요: 400\n"
     ]
    },
    {
     "name": "stdout",
     "output_type": "stream",
     "text": [
      "300 과 400 의 합은 700 입니다.\n"
     ]
    }
   ],
   "source": [
    "message=input(\"이름을 입력하시오:\")\n",
    "print(message,\"씨, 안녕하세요?\\n파이썬에 오신 것을 환영합니다.\")\n",
    "n1=int(input(\"첫번째 정수를 입력하세요:\"))\n",
    "n2=int(input(\"두번째 정수를 입력하세요:\"))\n",
    "print(n1,\"과\",n2,\"의 합은\",n1+n2,\"입니다.\")"
   ]
  },
  {
   "cell_type": "code",
   "execution_count": 58,
   "id": "7ffafa9d-c69f-4d17-b97e-a7c01b15c9bd",
   "metadata": {},
   "outputs": [
    {
     "name": "stdin",
     "output_type": "stream",
     "text": [
      "경기장은 어디입니까? 고척\n",
      "이긴 팀은 어디입니까? KT\n",
      "진 팀은 어디입니까? LG\n",
      "우수 선수는 누구입니까? 강백호\n",
      "스코어는 몇대몇입니까? 10:9\n"
     ]
    },
    {
     "name": "stdout",
     "output_type": "stream",
     "text": [
      "[속보] KT 가 10:9 로 승리...\n",
      "오늘 고척 경기장에서 야구 경기가 있었습니다.\n",
      " KT 와 LG 는 치열한 공방전을 펼쳤습니다.\n",
      "이 경기에서 강백호 가 맹활약을 했습니다.\n",
      "그 끝내 KT 가 LG 를 10:9 로 승리하였습니다.\n",
      "기사 끝.\n"
     ]
    }
   ],
   "source": [
    "mes1 = input(\"경기장은 어디입니까?\")\n",
    "mes2 = input(\"이긴 팀은 어디입니까?\")\n",
    "mes3 = input(\"진 팀은 어디입니까?\")\n",
    "mes4 = input(\"우수 선수는 누구입니까?\")\n",
    "mes5 = input(\"스코어는 몇대몇입니까?\")\n",
    "\n",
    "print(\"[속보]\", mes2,\"가\",mes5,\"로 승리...\\n오늘\",mes1,\"경기장에서 야구 경기가 있었습니다.\\n\",mes2,\"와\",mes3,\"는 치열한 공방전을 펼쳤습니다.\\n이 경기에서\",mes4,\"가 맹활약을 했습니다.\\n그 끝내\",mes2,\"가\",mes3,\"를\",mes5,\"로 승리하였습니다.\\n기사 끝.\") "
   ]
  },
  {
   "cell_type": "markdown",
   "id": "134dba1b-9e0c-4002-a42f-36ad6f13bd21",
   "metadata": {},
   "source": [
    "### 입력 값을 여러 개의 변수에 저장하기  \n",
    "### split()함수는 인자로 구분하여 문자열을 나눠서 리스트로 반환합니다"
   ]
  },
  {
   "cell_type": "code",
   "execution_count": 80,
   "id": "20776025-06e7-4eb9-96b6-80415cc84815",
   "metadata": {},
   "outputs": [
    {
     "name": "stdout",
     "output_type": "stream",
     "text": [
      "['1', '2', '3']\n",
      "<class 'list'>\n"
     ]
    }
   ],
   "source": [
    "result = \"1,2,3\".split(\",\")\n",
    "print(result)\n",
    "print(type(result))"
   ]
  },
  {
   "cell_type": "code",
   "execution_count": 5,
   "id": "10f4bbcc-8409-4c11-9e36-2635309c2f01",
   "metadata": {},
   "outputs": [
    {
     "name": "stdin",
     "output_type": "stream",
     "text": [
      "hh:mm:ss의 형태로 시간을 입력해주세요: 12:33:23\n"
     ]
    },
    {
     "name": "stdout",
     "output_type": "stream",
     "text": [
      "실행 결과:\n",
      "시: 12\n",
      "분: 33\n",
      "초: 23\n",
      "['12', '33', '23']\n"
     ]
    }
   ],
   "source": [
    "cur = input(\"hh:mm:ss의 형태로 시간을 입력해주세요:\")\n",
    "cur2 = cur.split(\":\")\n",
    "print(\"실행 결과:\\n시:\",cur2[0])\n",
    "print(\"분:\",cur2[1])\n",
    "print(\"초:\",cur2[2])\n",
    "print(cur2)"
   ]
  },
  {
   "cell_type": "code",
   "execution_count": 6,
   "id": "4d6b2c84-f859-4217-bc98-c7a824adf71e",
   "metadata": {},
   "outputs": [
    {
     "name": "stdin",
     "output_type": "stream",
     "text": [
      "hh:mm:ss의 형태로 시간을 입력해주세요: 12:33:23\n"
     ]
    },
    {
     "name": "stdout",
     "output_type": "stream",
     "text": [
      "시: 12\n",
      "분: 33\n",
      "초: 23\n"
     ]
    }
   ],
   "source": [
    "h,m,s = input(\"hh:mm:ss의 형태로 시간을 입력해주세요:\").split(\":\")\n",
    "print(\"시:\",h)\n",
    "print(\"분:\",m)\n",
    "print(\"초:\",s)"
   ]
  },
  {
   "cell_type": "markdown",
   "id": "f989ea53-03f4-45b1-952c-af22aec95fd1",
   "metadata": {},
   "source": [
    "### map() 내장함수 이용하기 map(functuin,iterable)  \n",
    "###  map은 리스트의 요소를 지정된 함수로 처리해주는 함수입니다"
   ]
  },
  {
   "cell_type": "code",
   "execution_count": 14,
   "id": "d95a9b9d-7b77-4ed0-8fb1-59e4e79afd6e",
   "metadata": {},
   "outputs": [
    {
     "name": "stdout",
     "output_type": "stream",
     "text": [
      "[1, 2, 3, 4]\n",
      "<map object at 0x000001F86EDC4C10>\n"
     ]
    }
   ],
   "source": [
    "a = [1.2,2.5,3.7,4.6]\n",
    "b = list(map(int,a))\n",
    "c = map(int,a)\n",
    "print(b)\n",
    "print(c)"
   ]
  },
  {
   "cell_type": "code",
   "execution_count": 17,
   "id": "52aa2d99-e943-4518-a622-5661ef4d9062",
   "metadata": {},
   "outputs": [
    {
     "name": "stdin",
     "output_type": "stream",
     "text": [
      "국어, 영어, 수학, 과학 점수를 입력해주세요: 98,100,96,100\n"
     ]
    },
    {
     "name": "stdout",
     "output_type": "stream",
     "text": [
      "실행 결과\n",
      "평균 점수는 98.5 점입니다.\n"
     ]
    }
   ],
   "source": [
    "kor,eng,mat,sci = map(int,input(\"국어, 영어, 수학, 과학 점수를 입력해주세요:\").split(\",\"))\n",
    "print(\"실행 결과\\n평균 점수는\",(kor+eng+mat+sci)/4,\"점입니다.\")"
   ]
  },
  {
   "cell_type": "markdown",
   "id": "261a02d6-2171-45b8-86b5-e96f78d18734",
   "metadata": {},
   "source": [
    "### 여러 값을 동시에 출력 ,을 사용, 공백으로 되어 있음  \n",
    "### 값과 값을 구분하는 단위 변경하기, 맨 마지막에 'sep=구분 기호'를 작성하여 다른 문자로 변경 가능합니다."
   ]
  },
  {
   "cell_type": "markdown",
   "id": "8e363c42-a959-48b5-a268-7e2c03e11794",
   "metadata": {},
   "source": [
    "### 맨 뒤 출력 문자 변경하기  \n",
    "### print()함수를 여러 차례 사용 했을 때 출력결과가 각 print() 함수마다 줄바꿈이 되어있다. exp) java  \n",
    "### 맨 뒤에 end=문자열을 넣어 주어 변경할 수 있습니다, sep와 end는 순서가 상관이 없습니다."
   ]
  },
  {
   "cell_type": "code",
   "execution_count": 20,
   "id": "05eae3c0-aaec-4adc-ba97-fd104c66e692",
   "metadata": {},
   "outputs": [
    {
     "name": "stdout",
     "output_type": "stream",
     "text": [
      "2021/02/03 18:33:23\n"
     ]
    }
   ],
   "source": [
    "year = '2021'\n",
    "month = '02'\n",
    "day = '03'\n",
    "hour = '18'\n",
    "minute = '33'\n",
    "second = '23'\n",
    "\n",
    "print(year,month,day,sep='/',end=' ')\n",
    "print(hour,minute,second,sep=':')"
   ]
  },
  {
   "cell_type": "code",
   "execution_count": 22,
   "id": "dfd9e2b1-5300-4138-8dd5-475714306944",
   "metadata": {},
   "outputs": [
    {
     "name": "stdin",
     "output_type": "stream",
     "text": [
      "사과와 귤을 몇개 드릴까요? 10,20\n"
     ]
    },
    {
     "name": "stdout",
     "output_type": "stream",
     "text": [
      "실행 결과:\n",
      "총 가격은 14000원입니다.\n"
     ]
    }
   ],
   "source": [
    "apple,orange=map(int,input(\"사과와 귤을 몇개 드릴까요?\").split(\",\"))\n",
    "print(\"실행 결과:\\n\",\"총 가격은 \",apple*1000+orange*200,\"원입니다.\",sep=\"\")"
   ]
  },
  {
   "cell_type": "markdown",
   "id": "84c430fb-7b4e-4d19-aa46-cfabd0bc8e2c",
   "metadata": {},
   "source": [
    "### 객체 타입을 비교할 땐 is 키워드, 좌 is 우-True or False"
   ]
  },
  {
   "cell_type": "code",
   "execution_count": 24,
   "id": "10a4846e-1a50-41f5-98c5-64fa2bfd838c",
   "metadata": {},
   "outputs": [
    {
     "name": "stdout",
     "output_type": "stream",
     "text": [
      "30대입니다.\n",
      "감사합니다\n"
     ]
    }
   ],
   "source": [
    "age = 39\n",
    "if 20 <= age < 30:\n",
    "    print(\"20대입니다.\")\n",
    "elif 30 <= age < 40:\n",
    "    print(\"30대입니다.\")\n",
    "print(\"감사합니다\") # 자바에서는 20 <= age and age < 30 이런식으로 사용해야함"
   ]
  },
  {
   "cell_type": "code",
   "execution_count": 30,
   "id": "1fd22e7c-3ab5-4d15-9b85-0d8a51f6a7f4",
   "metadata": {},
   "outputs": [
    {
     "name": "stdin",
     "output_type": "stream",
     "text": [
      "아이디를 입력하세요 : biana\n",
      "회원 등급을 입력해주세요 : 3\n"
     ]
    },
    {
     "name": "stdout",
     "output_type": "stream",
     "text": [
      "제한적인 권한을 갖습니다.\n"
     ]
    }
   ],
   "source": [
    "id = input(\"아이디를 입력하세요 :\")\n",
    "if id ==  \"admin\":\n",
    "    print(\"최고 관리자, 모든 권한을 갖습니다.\")\n",
    "else:\n",
    "    grade = int(input(\"회원 등급을 입력해주세요 :\"))\n",
    "    if 1 <= grade <= 3:\n",
    "        print(\"제한적인 권한을 갖습니다.\")\n",
    "    else:\n",
    "        print(\"권한이 없습니다.\")"
   ]
  },
  {
   "cell_type": "code",
   "execution_count": null,
   "id": "734c45df-42ca-4ee8-95b2-f0a23115518c",
   "metadata": {},
   "outputs": [],
   "source": []
  }
 ],
 "metadata": {
  "kernelspec": {
   "display_name": "Python 3 (ipykernel)",
   "language": "python",
   "name": "python3"
  },
  "language_info": {
   "codemirror_mode": {
    "name": "ipython",
    "version": 3
   },
   "file_extension": ".py",
   "mimetype": "text/x-python",
   "name": "python",
   "nbconvert_exporter": "python",
   "pygments_lexer": "ipython3",
   "version": "3.9.13"
  }
 },
 "nbformat": 4,
 "nbformat_minor": 5
}
