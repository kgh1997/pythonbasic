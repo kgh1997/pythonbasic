{
 "cells": [
  {
   "cell_type": "code",
   "execution_count": 1,
   "id": "7fdceb72-c3ff-42f9-bde1-5d1f71e9a8aa",
   "metadata": {},
   "outputs": [
    {
     "name": "stdout",
     "output_type": "stream",
     "text": [
      "3.9.13 (main, Aug 25 2022, 23:51:50) [MSC v.1916 64 bit (AMD64)]\n"
     ]
    }
   ],
   "source": [
    "import sys\n",
    "print(sys.version)"
   ]
  },
  {
   "cell_type": "code",
   "execution_count": 2,
   "id": "9c0fbbf8-ad32-431c-8621-77d958cabf80",
   "metadata": {},
   "outputs": [
    {
     "name": "stdout",
     "output_type": "stream",
     "text": [
      " C 드라이브의 볼륨에는 이름이 없습니다.\n",
      " 볼륨 일련 번호: 6CBF-718A\n",
      "\n",
      " C:\\python 디렉터리\n",
      "\n",
      "2023-01-04  오전 10:13    <DIR>          .\n",
      "2023-01-04  오전 10:13    <DIR>          ..\n",
      "2023-01-04  오전 10:12    <DIR>          .ipynb_checkpoints\n",
      "2023-01-04  오전 10:13               992 01python.ipynb\n",
      "               1개 파일                 992 바이트\n",
      "               3개 디렉터리  183,211,532,288 바이트 남음\n"
     ]
    }
   ],
   "source": [
    "!dir"
   ]
  },
  {
   "cell_type": "code",
   "execution_count": null,
   "id": "95014f45-7c23-4978-a360-7049084283f5",
   "metadata": {},
   "outputs": [],
   "source": []
  }
 ],
 "metadata": {
  "kernelspec": {
   "display_name": "Python 3 (ipykernel)",
   "language": "python",
   "name": "python3"
  },
  "language_info": {
   "codemirror_mode": {
    "name": "ipython",
    "version": 3
   },
   "file_extension": ".py",
   "mimetype": "text/x-python",
   "name": "python",
   "nbconvert_exporter": "python",
   "pygments_lexer": "ipython3",
   "version": "3.9.13"
  }
 },
 "nbformat": 4,
 "nbformat_minor": 5
}
