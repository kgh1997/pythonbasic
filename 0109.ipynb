{
 "cells": [
  {
   "cell_type": "code",
   "execution_count": 61,
   "id": "20738d01-4b27-4dff-b33e-421c28a8721a",
   "metadata": {},
   "outputs": [
    {
     "name": "stdin",
     "output_type": "stream",
     "text": [
      "현재 시간을 hh:mm 형태로 입력해 주세요. 10:09\n"
     ]
    },
    {
     "name": "stdout",
     "output_type": "stream",
     "text": [
      "정각이 아닙니다.\n"
     ]
    }
   ],
   "source": [
    "import time\n",
    "h,m = map(int,input(\"현재 시간을 hh:mm 형태로 입력해 주세요.\").split(\":\"))\n",
    "if 0 <=h <=24:\n",
    "    if m == 0:\n",
    "        print(\"현재시간\",h,\"시 정각입니다.\")\n",
    "    else:\n",
    "        print(\"정각이 아닙니다.\")\n"
   ]
  },
  {
   "cell_type": "code",
   "execution_count": 7,
   "id": "be74ee29-b669-41f1-b21c-88f893d543a9",
   "metadata": {},
   "outputs": [
    {
     "name": "stdout",
     "output_type": "stream",
     "text": [
      "Pt\n"
     ]
    }
   ],
   "source": [
    "language = 'Python'\n",
    "print(language[0], language[2], sep=\"\")"
   ]
  },
  {
   "cell_type": "markdown",
   "id": "b68d315b-12e6-495c-8767-c7715227f74b",
   "metadata": {},
   "source": [
    "### 슬라이싱!!"
   ]
  },
  {
   "cell_type": "code",
   "execution_count": 58,
   "id": "3095fee7-72ba-4b89-8844-5288df25c2ca",
   "metadata": {},
   "outputs": [
    {
     "name": "stdout",
     "output_type": "stream",
     "text": [
      "[1, 2, '짝', 4, 5, '짝', 7, 8, '짝', 10]\n"
     ]
    }
   ],
   "source": [
    "list_a = [1, 2, 3, 4, 5, 6, 7, 8, 9, 10]\n",
    "list_a[2::3]=\"짝\"*3\n",
    "print(list_a)"
   ]
  },
  {
   "cell_type": "code",
   "execution_count": 16,
   "id": "b391e46c-bbae-4677-9238-2a381e6ff2e4",
   "metadata": {},
   "outputs": [
    {
     "name": "stdout",
     "output_type": "stream",
     "text": [
      "1부터 10까지의 홀수의 합은 25 입니다.\n"
     ]
    }
   ],
   "source": [
    "a = list(range(1,11))\n",
    "sum_ = 0\n",
    "j = 0\n",
    "for i in a:\n",
    "    sum_ = sum_ + a[j]\n",
    "    j += 2\n",
    "    if j == 10:\n",
    "        break\n",
    "print(\"1부터 10까지의 홀수의 합은\", sum_ ,\"입니다.\")"
   ]
  },
  {
   "cell_type": "code",
   "execution_count": 107,
   "id": "d35541d5-4b49-4eb1-8f87-42caeb7945dd",
   "metadata": {},
   "outputs": [
    {
     "name": "stdout",
     "output_type": "stream",
     "text": [
      "*****\n",
      "*****\n",
      "*****\n",
      "*****\n",
      "*****\n"
     ]
    }
   ],
   "source": [
    "for i in range(5):\n",
    "    print(\"*\"*5,end=\"\")\n",
    "    print()"
   ]
  },
  {
   "cell_type": "code",
   "execution_count": 108,
   "id": "3eb1c15e-d170-4b03-a5a5-0246cd7f832f",
   "metadata": {},
   "outputs": [
    {
     "name": "stdin",
     "output_type": "stream",
     "text": [
      "반복할 횟수릉 입력하세요:  3\n"
     ]
    },
    {
     "name": "stdout",
     "output_type": "stream",
     "text": [
      "Hello world 3\n",
      "Hello world 2\n",
      "Hello world 1\n"
     ]
    }
   ],
   "source": [
    "count = int(input(\"반복할 횟수릉 입력하세요: \"))\n",
    "while count > 0:\n",
    "    print(\"Hello world\",count)\n",
    "    count -= 1"
   ]
  },
  {
   "cell_type": "code",
   "execution_count": 117,
   "id": "4f351abb-8844-427a-b432-89455e6db0a7",
   "metadata": {},
   "outputs": [
    {
     "name": "stdout",
     "output_type": "stream",
     "text": [
      "2\t4\t6\t8\t10\t12\t14\t16\t18\t20\t22\t24\t26\t28\t30\t32\t34\t36\t38\t40\t42\t44\t46\t48\t50\t52\t54\t56\t58\t60\t62\t64\t66\t68\t70\t72\t74\t76\t78\t80\t82\t84\t86\t88\t90\t92\t94\t96\t98\t100\t"
     ]
    }
   ],
   "source": [
    "n = list(range(2,101,2))\n",
    "j = len(n)\n",
    "i=0\n",
    "while j > 0:\n",
    "    print(n[i],end=\"\\t\")\n",
    "    i += 1\n",
    "    j -= 1\n",
    "    "
   ]
  },
  {
   "cell_type": "code",
   "execution_count": 119,
   "id": "7c790daa-503b-472e-86fe-c6d73e598470",
   "metadata": {},
   "outputs": [
    {
     "name": "stdin",
     "output_type": "stream",
     "text": [
      "실행 결과:\n",
      "구구단을 알려드립니다. 숫자를 입력하세요 9\n"
     ]
    },
    {
     "name": "stdout",
     "output_type": "stream",
     "text": [
      "9  *  1  =  9\n",
      "9  *  2  =  18\n",
      "9  *  3  =  27\n",
      "9  *  4  =  36\n",
      "9  *  5  =  45\n",
      "9  *  6  =  54\n",
      "9  *  7  =  63\n",
      "9  *  8  =  72\n",
      "9  *  9  =  81\n"
     ]
    }
   ],
   "source": [
    "n = int(input(\"실행 결과:\\n구구단을 알려드립니다. 숫자를 입력하세요\"))\n",
    "i = 1\n",
    "while i < 10:\n",
    "    print(n,\" * \",i,\" = \",n*i)\n",
    "    i += 1"
   ]
  },
  {
   "cell_type": "code",
   "execution_count": 135,
   "id": "1471601a-1612-48f3-8812-4ec1e245e4db",
   "metadata": {},
   "outputs": [
    {
     "name": "stdin",
     "output_type": "stream",
     "text": [
      "실행 결과:\n",
      "학생의 수 : 3\n",
      "1번 학생의 점수: 77\n",
      "2번 학생의 점수: 88\n",
      "3번 학생의 점수: 99\n"
     ]
    },
    {
     "name": "stdout",
     "output_type": "stream",
     "text": [
      "평균: 88.0 점\n"
     ]
    }
   ],
   "source": [
    "stu = int(input(\"실행 결과:\\n학생의 수 :\"))\n",
    "grade = []\n",
    "i=1\n",
    "while stu > 0:\n",
    "    g = int(input(str(i)+\"번 학생의 점수:\")) ## input()은 인자 한개만 받아서 , 사용 불가!\n",
    "    grade.append(g)\n",
    "    i += 1\n",
    "    stu -= 1\n",
    "print(\"평균:\",(grade[0]+grade[1]+grade[2])/len(grade),\"점\")"
   ]
  },
  {
   "cell_type": "code",
   "execution_count": 149,
   "id": "0591ca7c-1b07-4e98-a352-1c81d0c46e37",
   "metadata": {},
   "outputs": [
    {
     "name": "stdout",
     "output_type": "stream",
     "text": [
      "79.0\n"
     ]
    }
   ],
   "source": [
    "class_a = (70,60,55,75,95,90,80,80,85,100)\n",
    "n = len(class_a)\n",
    "sm = 0\n",
    "i = 0\n",
    "while (n-1) >=0:\n",
    "    sm = sm + class_a[i]\n",
    "    i += 1\n",
    "    n -= 1\n",
    "print(sm/len(class_a))\n",
    "# j = 0\n",
    "# while j < len(class_a)\n",
    "   #sm += class_a[i]\n",
    "   #i+=1\n",
    "#print(sm/len(class_a))"
   ]
  },
  {
   "cell_type": "code",
   "execution_count": 150,
   "id": "953a3f1d-7f4f-4808-b338-ec13378e8700",
   "metadata": {},
   "outputs": [
    {
     "name": "stdout",
     "output_type": "stream",
     "text": [
      "5050\n"
     ]
    }
   ],
   "source": [
    "i = 0\n",
    "total = 0\n",
    "while True:\n",
    "    i += 1\n",
    "    total += i\n",
    "    if i == 100:\n",
    "        break\n",
    "print(total)"
   ]
  },
  {
   "cell_type": "markdown",
   "id": "04385f60-a26b-4d68-97fd-f002019f0e06",
   "metadata": {},
   "source": [
    "### continue는 제어흐름을 유지하고, continue가 실행된 반복 횟수의 코드 실행만 건너뜁니다.  \n",
    "### for i in range(100):  \n",
    "###     if i % 2 ==0:  \n",
    "###        continue  \n",
    "###     print(i, end='\\t')"
   ]
  },
  {
   "cell_type": "code",
   "execution_count": 185,
   "id": "98da3e9c-be18-4110-b2cd-f7b582e159ee",
   "metadata": {},
   "outputs": [
    {
     "name": "stdout",
     "output_type": "stream",
     "text": [
      "3 13 23 33 43 53 63 73 83 93 "
     ]
    }
   ],
   "source": [
    "i = 1 ######################## continue와 break의 위치\n",
    "while True:\n",
    "    if (i % 10)!=3:\n",
    "        i += 1\n",
    "        if i == 100:\n",
    "            break\n",
    "        continue\n",
    "    print(i, end=\" \")\n",
    "    i = i + 1"
   ]
  },
  {
   "cell_type": "code",
   "execution_count": 188,
   "id": "f1825d5d-d551-40fc-8e7c-377c74a98308",
   "metadata": {},
   "outputs": [
    {
     "name": "stdout",
     "output_type": "stream",
     "text": [
      "1  2  3  4  5  6  7  8  9  10  "
     ]
    }
   ],
   "source": [
    "i=1\n",
    "for i in range(1,11):\n",
    "    print(i,\" \",end='')"
   ]
  },
  {
   "cell_type": "code",
   "execution_count": 190,
   "id": "b2e2be0f-acd4-4301-ae1e-dc827a19a7ca",
   "metadata": {},
   "outputs": [
    {
     "name": "stdout",
     "output_type": "stream",
     "text": [
      "1  2  3  4  5  6  7  8  9  10  "
     ]
    }
   ],
   "source": [
    "j=1\n",
    "while True:\n",
    "    print(j,\" \",end='')\n",
    "    j += 1\n",
    "    if j > 10:\n",
    "        break"
   ]
  },
  {
   "cell_type": "code",
   "execution_count": 194,
   "id": "04911e5a-8c79-458c-b4f1-2d3859eaebf0",
   "metadata": {},
   "outputs": [
    {
     "name": "stdin",
     "output_type": "stream",
     "text": [
      "실행 결과:\n",
      "시작하는 정수 입력: 1\n",
      "끝나는 정수 입력: 10\n"
     ]
    },
    {
     "name": "stdout",
     "output_type": "stream",
     "text": [
      "1 부터  10 까지의 합은 55 입니다.\n"
     ]
    }
   ],
   "source": [
    "n = int(input(\"실행 결과:\\n시작하는 정수 입력:\"))\n",
    "m = int(input(\"끝나는 정수 입력:\"))\n",
    "sum_ = 0\n",
    "for i in range(n,m+1):\n",
    "    sum_ += i\n",
    "print(n,\"부터 \",m,\"까지의 합은\",sum_,\"입니다.\")"
   ]
  },
  {
   "cell_type": "code",
   "execution_count": 202,
   "id": "3e1b56c3-4800-4689-b09f-fe553f0dc32b",
   "metadata": {},
   "outputs": [
    {
     "name": "stdin",
     "output_type": "stream",
     "text": [
      "실행 결과:\n",
      "시작하는 정수 입력: 5\n",
      "끝나는 정수 입력: 19\n"
     ]
    },
    {
     "name": "stdout",
     "output_type": "stream",
     "text": [
      "5 부터  19 까지의 합은 180 입니다.\n"
     ]
    }
   ],
   "source": [
    "n = int(input(\"실행 결과:\\n시작하는 정수 입력:\"))\n",
    "m = int(input(\"끝나는 정수 입력:\"))\n",
    "sum_ = 0\n",
    "k = 0\n",
    "while n <= m:\n",
    "    sum_ += n\n",
    "    n += 1\n",
    "    k += 1\n",
    "print(n-k,\"부터 \",m,\"까지의 합은\",sum_,\"입니다.\")\n",
    "#print(f'{n-k}부터 {m}까지의 합은 {sum_}입니다.')"
   ]
  },
  {
   "cell_type": "markdown",
   "id": "61977c16-e6a6-4cce-b3a6-62a9ee4e17fc",
   "metadata": {},
   "source": [
    "# n,m,total은 변수명입니다.  \n",
    "# f-string은 3.6버전부터 지원됩니다. f'가 접두어 \n",
    "# print(f'{n}부터 {m}까지의 합은 {total}입니다.')"
   ]
  },
  {
   "cell_type": "code",
   "execution_count": 203,
   "id": "0f2b4c53-2bec-4462-9d5e-2d3adf68d07e",
   "metadata": {},
   "outputs": [
    {
     "name": "stdin",
     "output_type": "stream",
     "text": [
      "실행 결과:\n",
      "시작하는 정수 입력: 4\n",
      "끝나는 정수 입력: 7\n"
     ]
    },
    {
     "name": "stdout",
     "output_type": "stream",
     "text": [
      "4부터 7사이의 짝수 제곱의 합은 52입니다. \n"
     ]
    }
   ],
   "source": [
    "n = int(input(\"실행 결과:\\n시작하는 정수 입력:\"))\n",
    "m = int(input(\"끝나는 정수 입력:\"))\n",
    "sum_ = 0\n",
    "for i in range(n,m+1):\n",
    "    if i % 2 == 0:\n",
    "        sum_ += i**2\n",
    "print(f'{n}부터 {m}사이의 짝수 제곱의 합은 {sum_}입니다. ')"
   ]
  },
  {
   "cell_type": "code",
   "execution_count": 207,
   "id": "0a494941-59f2-4563-b95a-9234a4aa3edb",
   "metadata": {},
   "outputs": [
    {
     "name": "stdin",
     "output_type": "stream",
     "text": [
      "실행 결과:\n",
      "시작하는 정수 입력: 4\n",
      "끝나는 정수 입력: 7\n"
     ]
    },
    {
     "name": "stdout",
     "output_type": "stream",
     "text": [
      "4부터 7사이의 짝수 제곱의 합은 52입니다. \n"
     ]
    }
   ],
   "source": [
    "n = int(input(\"실행 결과:\\n시작하는 정수 입력:\"))\n",
    "m = int(input(\"끝나는 정수 입력:\"))\n",
    "sum_ = 0\n",
    "k = 0\n",
    "while n <= m:\n",
    "    if n % 2 ==0:\n",
    "        sum_ += n**2\n",
    "    n += 1\n",
    "    k += 1\n",
    "print(f'{n-k}부터 {m}사이의 짝수 제곱의 합은 {sum_}입니다. ')"
   ]
  },
  {
   "cell_type": "code",
   "execution_count": 209,
   "id": "10471cab-6edc-4892-a26b-d82d104f8d4b",
   "metadata": {},
   "outputs": [
    {
     "name": "stdout",
     "output_type": "stream",
     "text": [
      "실행 결과\n",
      " 79.0\n"
     ]
    }
   ],
   "source": [
    "kor = [70,60,55,75,95,90,80,80,85,100]\n",
    "score = 0\n",
    "for i in kor:\n",
    "    score += i\n",
    "print(\"실행 결과\\n\",score/len(kor))"
   ]
  },
  {
   "cell_type": "code",
   "execution_count": 210,
   "id": "5c2c8192-fd6a-4634-81a2-f7513e631660",
   "metadata": {},
   "outputs": [
    {
     "name": "stdout",
     "output_type": "stream",
     "text": [
      "실행 결과\n",
      " 79.0\n"
     ]
    }
   ],
   "source": [
    "kor = [70,60,55,75,95,90,80,80,85,100]\n",
    "score = 0\n",
    "n = len(kor)\n",
    "while n > 0:\n",
    "    score += kor[n-1]\n",
    "    n -= 1\n",
    "print(\"실행 결과\\n\",score/len(kor))"
   ]
  },
  {
   "cell_type": "code",
   "execution_count": 213,
   "id": "1154e31b-7dde-49d8-b6bf-eba09684144c",
   "metadata": {},
   "outputs": [
    {
     "name": "stdout",
     "output_type": "stream",
     "text": [
      "실행 결과:\n",
      "결과는 233168 입니다.\n"
     ]
    }
   ],
   "source": [
    "total = 0\n",
    "for i in range(1,1000):\n",
    "    if (i % 3 == 0) or (i % 5 == 0):\n",
    "        total += i\n",
    "print(\"실행 결과:\\n결과는\",total,\"입니다.\")"
   ]
  },
  {
   "cell_type": "code",
   "execution_count": 212,
   "id": "d28dde32-0066-4243-922d-0a784ceece62",
   "metadata": {},
   "outputs": [
    {
     "name": "stdout",
     "output_type": "stream",
     "text": [
      "실행 결과:\n",
      "결과는 233168 입니다.\n"
     ]
    }
   ],
   "source": [
    "total = 0\n",
    "i=1\n",
    "while i < 1000:\n",
    "    if (i % 3 == 0) or (i % 5 == 0):\n",
    "        total += i\n",
    "    i += 1\n",
    "print(\"실행 결과:\\n결과는\",total,\"입니다.\")"
   ]
  },
  {
   "cell_type": "code",
   "execution_count": null,
   "id": "30eb2890-e7af-40e9-9250-a2546db65e41",
   "metadata": {},
   "outputs": [],
   "source": []
  }
 ],
 "metadata": {
  "kernelspec": {
   "display_name": "Python 3 (ipykernel)",
   "language": "python",
   "name": "python3"
  },
  "language_info": {
   "codemirror_mode": {
    "name": "ipython",
    "version": 3
   },
   "file_extension": ".py",
   "mimetype": "text/x-python",
   "name": "python",
   "nbconvert_exporter": "python",
   "pygments_lexer": "ipython3",
   "version": "3.9.13"
  }
 },
 "nbformat": 4,
 "nbformat_minor": 5
}
