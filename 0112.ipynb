{
 "cells": [
  {
   "cell_type": "markdown",
   "id": "b07fa784-8c91-488f-9372-982bb697ff69",
   "metadata": {},
   "source": [
    "## random(): 0 ~ 1 사이의 랜덤/ uniform(start,stop): start부터 stop미만의 랜덤 실수/ randint(start,stop): start부터 stop이하의 랜덤 정수  \n",
    "## randrange(start,stop,step): start부터 stop-1까지 step만큼의 증감의 수 중 랜덤의 수 반환  \n",
    "## choice(list): 해당 시퀀스 자료형 중에 랜덤으로 하나 반환/ sample(list,n): 해당 시퀀스 중에 랜덤으로 n개를 뽑아서 반환/ shuffle(): 해당 시퀀스 자료를 무작위로 섞음, 값 반환은 안됨"
   ]
  },
  {
   "cell_type": "code",
   "execution_count": 104,
   "id": "5da9d913-80a9-4c72-a0cd-5211a2ad6caa",
   "metadata": {},
   "outputs": [
    {
     "name": "stdin",
     "output_type": "stream",
     "text": [
      "실행 결과\n",
      "로또 번호 몇 개 드릴까요? 7\n"
     ]
    },
    {
     "name": "stdout",
     "output_type": "stream",
     "text": [
      "[12, 15, 22, 25, 36, 44]\n",
      "[5, 6, 7, 14, 19, 33]\n",
      "[13, 21, 23, 25, 34, 45]\n",
      "[14, 16, 17, 36, 40, 43]\n",
      "[1, 5, 23, 30, 34, 36]\n",
      "[7, 18, 22, 23, 41, 43]\n",
      "[2, 10, 12, 17, 19, 25]\n"
     ]
    }
   ],
   "source": [
    "import random\n",
    "n = int(input(\"실행 결과\\n로또 번호 몇 개 드릴까요?\"))\n",
    "while n>0:\n",
    "    lotto_num = [random.randint(1,45) for _ in range(6)] # 생성\n",
    "    lotto_num.sort() # 정렬\n",
    "    if (len(lotto_num) != len(set(lotto_num))): # 중복 체크\n",
    "        continue\n",
    "    n-=1\n",
    "    print(lotto_num)"
   ]
  },
  {
   "cell_type": "code",
   "execution_count": 108,
   "id": "297f0b9d-a0a1-43df-90c8-c0f283a52582",
   "metadata": {},
   "outputs": [
    {
     "name": "stdin",
     "output_type": "stream",
     "text": [
      "실행 결과\n",
      "로또 번호 몇 개 드릴까요? 10\n"
     ]
    },
    {
     "name": "stdout",
     "output_type": "stream",
     "text": [
      "[7, 28, 34, 35, 36, 41]\n",
      "[3, 5, 25, 32, 36, 39]\n",
      "[2, 14, 23, 28, 35, 37]\n",
      "[14, 29, 30, 32, 37, 44]\n",
      "[1, 14, 20, 23, 35, 40]\n",
      "[2, 7, 24, 27, 43, 44]\n",
      "[1, 8, 19, 23, 24, 34]\n",
      "[17, 23, 26, 29, 30, 44]\n",
      "[4, 14, 19, 23, 25, 27]\n",
      "[27, 29, 35, 38, 40, 41]\n"
     ]
    }
   ],
   "source": [
    "# set 안쓰고 \n",
    "import random\n",
    "n = int(input(\"실행 결과\\n로또 번호 몇 개 드릴까요?\"))\n",
    "for i in range(n):\n",
    "    lotto_numbers = [] \n",
    "    while len(lotto_numbers) <6:\n",
    "        lotto_number = random.randint(1,45)\n",
    "        if lotto_number not in lotto_numbers:\n",
    "            lotto_numbers.append(lotto_number)\n",
    "    lotto_numbers.sort()\n",
    "    print(lotto_numbers)"
   ]
  },
  {
   "cell_type": "code",
   "execution_count": 109,
   "id": "b8542e17-a567-4e3a-8127-b3150c043c38",
   "metadata": {},
   "outputs": [
    {
     "name": "stdin",
     "output_type": "stream",
     "text": [
      "실행 결과\n",
      "로또 번호 몇 개 드릴까요? 5\n"
     ]
    },
    {
     "name": "stdout",
     "output_type": "stream",
     "text": [
      "[7, 13, 22, 30, 37, 42]\n",
      "[20, 28, 32, 34, 37, 44]\n",
      "[6, 8, 12, 14, 25, 40]\n",
      "[10, 22, 23, 31, 36, 44]\n",
      "[11, 20, 30, 38, 40, 42]\n"
     ]
    }
   ],
   "source": [
    "# 새로운 방법\n",
    "n = int(input(\"실행 결과\\n로또 번호 몇 개 드릴까요?\"))\n",
    "for i in range(n):\n",
    "    lotto = [j for j in range(1,46)]\n",
    "    lotto_numbers = []\n",
    "    for _ in range(6):\n",
    "        lotto_number = lotto[random.randint(1,len(lotto)-1)]\n",
    "        lotto_numbers.append(lotto_number)\n",
    "        lotto.remove(lotto_number)\n",
    "        lotto_numbers.sort()\n",
    "    print(lotto_numbers)"
   ]
  },
  {
   "cell_type": "markdown",
   "id": "e91626ac-d247-4f46-a8a7-77052c148198",
   "metadata": {},
   "source": [
    "## set(): 세트자료형은 인덱스를 갖지 않으며, 중복되는 값을 갖지 않으며, 순서가 없다. 집합과 맥락이 같다.  \n",
    "## set = {키,키,키,키...}/ set.add(요소): 한 번에 하나의 값을 넣을 수 있음/ set.remove(요소): 삭제하려는 요소가 없다면 KeyError가 발생!/ set.discard(요소): 요소가 없어도 KeyError발생X/ set.pop(): 랜덤하게 키 하나를 삭제함. 더 이상 요소가 없으면 KeyError발생!/ set.union(a,b): a와b를 합친다. |도 같음/ set.intersection(a,b): 교집합 &랑 같음/ set.difference(): 차집합 -랑 같음\n",
    "## set_comprehension = {expression for 변수 in iterable if 조건식}  \n",
    "## set.symmetric_difference(a,b): 대칭차집합 ^랑 같음/ a.update(b): a세트에 b세트를 추가함. |=랑 같음/ a.intersection_update(b): a에 b교집합을 대입함. &=/a.difference_update(b): a에 b의 차집합을 대입함 -=/a.symmetric_difference.update(b): a에 대칭차집합 b를 추가시킴 ^=랑 같음/ a.issubset(b): a가 b의 부분집합이냐? True or False반환(같은 것도 포함)/ a.issuperset(b): a가 b의 상위집합이냐?/ a.disjoint(b): a가 b랑 겹치는 부분이 있냐? True False/ "
   ]
  },
  {
   "cell_type": "code",
   "execution_count": 136,
   "id": "5bcb45c8-30c3-4b0f-adc2-18c56283a1fd",
   "metadata": {},
   "outputs": [
    {
     "name": "stdin",
     "output_type": "stream",
     "text": [
      "실행 결과\n",
      "로또 번호 몇 개 드릴까요? 6\n"
     ]
    },
    {
     "name": "stdout",
     "output_type": "stream",
     "text": [
      "[7, 21, 29, 31, 35, 42]\n",
      "[16, 23, 27, 29, 34, 35]\n",
      "[10, 15, 30, 33, 40, 43]\n",
      "[8, 13, 15, 31, 44, 45]\n",
      "[2, 18, 21, 24, 29, 33]\n",
      "[4, 15, 27, 33, 38, 41]\n"
     ]
    }
   ],
   "source": [
    "import random\n",
    "n = int(input(\"실행 결과\\n로또 번호 몇 개 드릴까요?\"))\n",
    "while n>0:\n",
    "    lotto_num = {random.randint(1,45) for _ in range(6)} # 생성\n",
    "    l = list(lotto_num)\n",
    "    l.sort()\n",
    "    if len(l)!=6: # 중복 체크\n",
    "        continue\n",
    "    n -= 1\n",
    "    print(l)"
   ]
  },
  {
   "cell_type": "code",
   "execution_count": 137,
   "id": "e7d06844-11f3-4fef-a052-1e1dd4c82f6b",
   "metadata": {},
   "outputs": [
    {
     "data": {
      "text/plain": [
       "{1, 2, 3, 4}"
      ]
     },
     "execution_count": 137,
     "metadata": {},
     "output_type": "execute_result"
    }
   ],
   "source": [
    "list_sample=[1,2,2,3,3,3,4,4,4,4]\n",
    "set(list_sample)"
   ]
  },
  {
   "cell_type": "code",
   "execution_count": 138,
   "id": "d4f93a52-2ebd-4474-8734-9afd79b7f058",
   "metadata": {},
   "outputs": [
    {
     "data": {
      "text/plain": [
       "{15, 30, 45, 60, 75, 90}"
      ]
     },
     "execution_count": 138,
     "metadata": {},
     "output_type": "execute_result"
    }
   ],
   "source": [
    "set_3 = {_ for _ in range(3,100,3)}\n",
    "set_5 = {i for i in range(5,100,5)}\n",
    "result_set = set_3&set_5\n",
    "result_set"
   ]
  },
  {
   "cell_type": "code",
   "execution_count": 171,
   "id": "8e3b81f0-ebb1-4a2a-8d17-32210d2dd23d",
   "metadata": {},
   "outputs": [
    {
     "name": "stdout",
     "output_type": "stream",
     "text": [
      "개인정보 조회, 구매 관리, 근태 관리, 시스템 관리, 인사 관리, 회계 관리, "
     ]
    }
   ],
   "source": [
    "role_admin = ('회계 관리','인사 관리','구매 관리','시스템 관리')\n",
    "role_hr = ('인사 관리','개인정보 조회','회계 관리','근태 관리')\n",
    "role_user = ('개인정보 조회','근태 관리')\n",
    "result = role_admin+role_hr+role_user\n",
    "result = set(result)\n",
    "result = list(result)\n",
    "result.sort()\n",
    "end_char = \", \"\n",
    "for i in result:\n",
    "    print(i,end=', ')\n",
    "    #print(i,end=end_char)\n",
    "#print(result)\n",
    "#result = set.union(set(role_admin),set(role_hr),set(role_user))\n",
    "#result = list(result)\n",
    "#result.sort()\n",
    "#result"
   ]
  },
  {
   "cell_type": "code",
   "execution_count": 232,
   "id": "007a7cb7-6bb8-444e-9332-868d7f51509f",
   "metadata": {},
   "outputs": [
    {
     "name": "stdin",
     "output_type": "stream",
     "text": [
      "실행 결과:\n",
      "2부터 입력하신 수까지의 모든 소수를 찾는 프로그램입니다.\n",
      "찾는 범위를 입력하세요: 100\n"
     ]
    },
    {
     "name": "stdout",
     "output_type": "stream",
     "text": [
      "2\t3\t5\t7\t11\t13\t17\t\n",
      "19\t23\t29\t31\t37\t41\t43\t\n",
      "47\t53\t59\t61\t67\t71\t73\t\n",
      "79\t83\t89\t97\t"
     ]
    }
   ],
   "source": [
    "n = int(input(\"실행 결과:\\n2부터 입력하신 수까지의 모든 소수를 찾는 프로그램입니다.\\n찾는 범위를 입력하세요:\"))\n",
    "decimal = []\n",
    "for i in range(2,n+1): # i=2~n\n",
    "    count = 0 # 약수의 개수\n",
    "    for j in range(1,i+1): # 2~i\n",
    "        if i % j == 0:\n",
    "            count += 1\n",
    "    if count == 2: # 약수가 2개 일 때 출력\n",
    "        decimal.append(i)\n",
    "for k in range(1,len(decimal)+1):\n",
    "    print(decimal[k-1], end='\\t') # 7개일 때 줄바꿈\n",
    "    if k % 7 == 0:\n",
    "        print()"
   ]
  },
  {
   "cell_type": "markdown",
   "id": "19b444b8-7086-456f-8cd2-1bf3df85e83f",
   "metadata": {},
   "source": [
    "## def 함수명(인자,인자,...):  \n",
    "##                 함수코드  \n",
    "##                 return 반환값  \n",
    "## parameter(인자): 위치-키워드(인자),위치 전용, 키워드 전용, 가변 위치, 가변 키워드"
   ]
  },
  {
   "cell_type": "code",
   "execution_count": 243,
   "id": "d036735d-22b2-4480-891d-831a6b3cabc7",
   "metadata": {},
   "outputs": [],
   "source": [
    "def function():\n",
    "    '''\n",
    "    Doce String 부분입니다.\n",
    "    이곳에 함수의 설명에 대해 적어놓으면 좋습니다.\n",
    "    '''\n",
    "    pass"
   ]
  },
  {
   "cell_type": "code",
   "execution_count": 245,
   "id": "07b935b4-c764-41b4-a8ae-e2cf97b1783e",
   "metadata": {},
   "outputs": [
    {
     "data": {
      "text/plain": [
       "'\\n    Doce String 부분입니다.\\n    이곳에 함수의 설명에 대해 적어놓으면 좋습니다.\\n    '"
      ]
     },
     "execution_count": 245,
     "metadata": {},
     "output_type": "execute_result"
    }
   ],
   "source": [
    "function.__doc__"
   ]
  },
  {
   "cell_type": "code",
   "execution_count": 247,
   "id": "c28c6a1d-e771-445e-920a-002a52ad35a7",
   "metadata": {},
   "outputs": [
    {
     "name": "stdout",
     "output_type": "stream",
     "text": [
      "Built-in mutable sequence.\n",
      "\n",
      "If no argument is given, the constructor creates a new empty list.\n",
      "The argument must be an iterable if specified.\n"
     ]
    }
   ],
   "source": [
    "print(list.__doc__)"
   ]
  },
  {
   "cell_type": "code",
   "execution_count": 248,
   "id": "bfd2df44-fbb7-4c1f-8833-49b0d3d3904e",
   "metadata": {},
   "outputs": [],
   "source": [
    "# 함수 정의절\n",
    "def function_name(positional, positional2, *args, keyword=1,**kargs):\n",
    "    pass # body"
   ]
  },
  {
   "cell_type": "code",
   "execution_count": 279,
   "id": "97f4ea26-08e8-4d63-abaf-6688961f65a4",
   "metadata": {},
   "outputs": [],
   "source": [
    "# 함수 정의절\n",
    "def get_grade(score,student_id='202031506',name='홍길동'):\n",
    "    '''\n",
    "    숫자로 된 점수를 넣으시면 학점의 결과를 반환합니다.\n",
    "    '''\n",
    "    print(f'{student_id},{name}의 성적을 확인합니다.')\n",
    "    if 85 <= score <= 100:\n",
    "        return \"A\"\n",
    "    elif 70 <= score <= 84:\n",
    "        return 'B'\n",
    "    elif 55 <= score <= 69:\n",
    "        return 'C'\n",
    "    elif 40 <= score <= 54:\n",
    "        return 'D'\n",
    "    elif 0 <= score <= 39:\n",
    "        return 'E'"
   ]
  },
  {
   "cell_type": "code",
   "execution_count": 275,
   "id": "75a88b9c-93fb-4157-a901-1949bb0c65be",
   "metadata": {},
   "outputs": [
    {
     "name": "stdout",
     "output_type": "stream",
     "text": [
      "202031506,gihun의 성적을 확인합니다.\n"
     ]
    },
    {
     "data": {
      "text/plain": [
       "'A'"
      ]
     },
     "execution_count": 275,
     "metadata": {},
     "output_type": "execute_result"
    }
   ],
   "source": [
    "result=get_grade(100,'gihun',202031506)\n",
    "result"
   ]
  },
  {
   "cell_type": "code",
   "execution_count": 280,
   "id": "62e4163e-7a8a-4cf7-81d9-48d399644a4a",
   "metadata": {},
   "outputs": [
    {
     "name": "stdout",
     "output_type": "stream",
     "text": [
      "202031506,홍길동의 성적을 확인합니다.\n",
      "202031506,홍길동의 성적을 확인합니다.\n",
      "202031506,홍길동의 성적을 확인합니다.\n",
      "202031506,홍길동의 성적을 확인합니다.\n",
      "202031506,홍길동의 성적을 확인합니다.\n",
      "202031506,홍길동의 성적을 확인합니다.\n",
      "202031506,홍길동의 성적을 확인합니다.\n",
      "202031506,홍길동의 성적을 확인합니다.\n",
      "202031506,홍길동의 성적을 확인합니다.\n",
      "202031506,홍길동의 성적을 확인합니다.\n",
      "202031506,홍길동의 성적을 확인합니다.\n",
      "202031506,홍길동의 성적을 확인합니다.\n",
      "202031506,홍길동의 성적을 확인합니다.\n",
      "202031506,홍길동의 성적을 확인합니다.\n",
      "202031506,홍길동의 성적을 확인합니다.\n",
      "202031506,홍길동의 성적을 확인합니다.\n",
      "202031506,홍길동의 성적을 확인합니다.\n",
      "202031506,홍길동의 성적을 확인합니다.\n",
      "202031506,홍길동의 성적을 확인합니다.\n",
      "202031506,홍길동의 성적을 확인합니다.\n",
      "['E', 'E', 'B', 'C', 'B', 'A', 'A', 'D', 'C', 'E', 'E', 'E', 'C', 'B', 'A', 'C', 'D', 'D', 'C', 'E'] "
     ]
    }
   ],
   "source": [
    "scores = [random.randint(1,100) for _ in range(20)] # 20명의 점수\n",
    "grades = list(map(get_grade,scores)) # 리스트를 get_grade에 넣음!!!!!!!!!!!!!!!!!!!!!!!!!!!!!!!!!!\n",
    "print(grades,end=' ')"
   ]
  },
  {
   "cell_type": "code",
   "execution_count": 269,
   "id": "ae29454e-9528-4cad-8651-ecfff7c56957",
   "metadata": {},
   "outputs": [
    {
     "name": "stdout",
     "output_type": "stream",
     "text": [
      "\n",
      "    숫자로 된 점수를 넣으시면 학점의 결과를 반환합니다.\n",
      "    \n"
     ]
    }
   ],
   "source": [
    "print(get_grade.__doc__)"
   ]
  },
  {
   "cell_type": "code",
   "execution_count": 271,
   "id": "8e960e76-4467-48cb-becc-50218a7f0667",
   "metadata": {},
   "outputs": [
    {
     "data": {
      "text/plain": [
       "'A'"
      ]
     },
     "execution_count": 271,
     "metadata": {},
     "output_type": "execute_result"
    }
   ],
   "source": [
    "get_grade(score=100)"
   ]
  },
  {
   "cell_type": "code",
   "execution_count": 288,
   "id": "7beede2b-8791-416a-93da-c63eecb277c1",
   "metadata": {},
   "outputs": [],
   "source": [
    "# positional-only: /문자를 기준으로 왼편에 온다.\n",
    "# keyward-only: *문자를 기준으로 우측에 온다.\n",
    "def add_number(number2,number1=3,/):\n",
    "    '''\n",
    "    숫자 number1과 숫자 number2를 전달 받아 더한 결과를 반환합니다.\n",
    "    '''\n",
    "    return number1 + number2"
   ]
  },
  {
   "cell_type": "code",
   "execution_count": 291,
   "id": "b6983236-fea5-42c2-9e29-f72c42b0beb7",
   "metadata": {},
   "outputs": [
    {
     "name": "stdout",
     "output_type": "stream",
     "text": [
      "4\n"
     ]
    }
   ],
   "source": [
    "# 인수(argument) - positional argument, keyword argument\n",
    "print(add_number(1,3))"
   ]
  },
  {
   "cell_type": "code",
   "execution_count": 292,
   "id": "708668e4-d885-4370-8512-5aa236df6130",
   "metadata": {},
   "outputs": [],
   "source": [
    "def minus_number(*,number1, number2):\n",
    "    '''\n",
    "    숫자 number1과 숫자 number2를 전달 받아 뺀 결과를 반환합니다.\n",
    "    '''\n",
    "    return number1 - number2"
   ]
  },
  {
   "cell_type": "code",
   "execution_count": 295,
   "id": "af416677-cf65-4246-9798-ec4fdb9878ed",
   "metadata": {},
   "outputs": [
    {
     "name": "stdout",
     "output_type": "stream",
     "text": [
      "29\n"
     ]
    }
   ],
   "source": [
    "print(minus_number(number1=30,number2=1))"
   ]
  },
  {
   "cell_type": "code",
   "execution_count": 296,
   "id": "2c93a63f-3307-44ff-8aa5-1b7f4a3f0d8a",
   "metadata": {},
   "outputs": [
    {
     "ename": "TypeError",
     "evalue": "minus_number() takes 0 positional arguments but 2 were given",
     "output_type": "error",
     "traceback": [
      "\u001b[1;31m---------------------------------------------------------------------------\u001b[0m",
      "\u001b[1;31mTypeError\u001b[0m                                 Traceback (most recent call last)",
      "\u001b[1;32m~\\AppData\\Local\\Temp\\ipykernel_7692\\3707795055.py\u001b[0m in \u001b[0;36m<module>\u001b[1;34m\u001b[0m\n\u001b[1;32m----> 1\u001b[1;33m \u001b[0mprint\u001b[0m\u001b[1;33m(\u001b[0m\u001b[0mminus_number\u001b[0m\u001b[1;33m(\u001b[0m\u001b[1;36m3\u001b[0m\u001b[1;33m,\u001b[0m\u001b[1;36m1\u001b[0m\u001b[1;33m)\u001b[0m\u001b[1;33m)\u001b[0m\u001b[1;33m\u001b[0m\u001b[1;33m\u001b[0m\u001b[0m\n\u001b[0m",
      "\u001b[1;31mTypeError\u001b[0m: minus_number() takes 0 positional arguments but 2 were given"
     ]
    }
   ],
   "source": [
    "print(minus_number(3,1))"
   ]
  },
  {
   "cell_type": "code",
   "execution_count": 297,
   "id": "4d6a237a-3b0e-4191-9d4c-62ea6671551b",
   "metadata": {},
   "outputs": [],
   "source": [
    "def multi_number(number1,/,*,number2):\n",
    "    '''\n",
    "    숫자 number1과 숫자 number2를 전달 받아 곱한 결과를 반환합니다.\n",
    "    '''\n",
    "    return number1 * number2"
   ]
  },
  {
   "cell_type": "code",
   "execution_count": 300,
   "id": "b0ecb8cc-fe82-4795-950e-57f1534c3ed9",
   "metadata": {},
   "outputs": [
    {
     "name": "stdout",
     "output_type": "stream",
     "text": [
      "30\n"
     ]
    }
   ],
   "source": [
    "print(multi_number(5,number2=6))"
   ]
  },
  {
   "cell_type": "code",
   "execution_count": 302,
   "id": "5b557fed-57ec-4484-a76c-fcb000f97f91",
   "metadata": {},
   "outputs": [],
   "source": [
    "def string_line(str_value,/,str_len=70,*,sep='#'):\n",
    "    '''\n",
    "    str_value는 가운데 오는 텍스트입니다.\n",
    "    str_len은 텍스트의 길이입니다.\n",
    "    sep는 구분선을 그을때 쓰는 문자입니다.\n",
    "    '''\n",
    "    print(str_value.center(str_len, sep))"
   ]
  },
  {
   "cell_type": "code",
   "execution_count": 305,
   "id": "f0e35591-c6e7-488e-8deb-a33d9b54b100",
   "metadata": {},
   "outputs": [
    {
     "name": "stdout",
     "output_type": "stream",
     "text": [
      "-----------------------구분선------------------------\n"
     ]
    }
   ],
   "source": [
    "string_line('구분선',50,sep='-')"
   ]
  },
  {
   "cell_type": "code",
   "execution_count": 308,
   "id": "bcb6ceff-4bd2-49b7-a3af-1243d18b5841",
   "metadata": {},
   "outputs": [
    {
     "data": {
      "text/plain": [
       "50"
      ]
     },
     "execution_count": 308,
     "metadata": {},
     "output_type": "execute_result"
    }
   ],
   "source": [
    "len('-----------------------구분선------------------------')"
   ]
  },
  {
   "cell_type": "code",
   "execution_count": 309,
   "id": "d1081ea2-59ea-42a9-b13d-7592fd46288c",
   "metadata": {},
   "outputs": [
    {
     "name": "stdout",
     "output_type": "stream",
     "text": [
      "************************************************절취선*************************************************\n"
     ]
    }
   ],
   "source": [
    "string_line('절취선',100,sep='*')"
   ]
  },
  {
   "cell_type": "code",
   "execution_count": 310,
   "id": "16762180-c0d7-48d8-98ce-691f03f73f69",
   "metadata": {},
   "outputs": [
    {
     "name": "stdout",
     "output_type": "stream",
     "text": [
      "1 1 1\n"
     ]
    }
   ],
   "source": [
    "print('1','1','1')"
   ]
  },
  {
   "cell_type": "code",
   "execution_count": 314,
   "id": "f9951d43-5ca9-40b0-8836-f82cda1816d9",
   "metadata": {},
   "outputs": [],
   "source": [
    "# *args: var positional 가변 위치\n",
    "def test_func(a,b,c,*args):\n",
    "    print(f'a:{a} b:{b} c:{c}')\n",
    "    print(type(args))\n",
    "    print(args)"
   ]
  },
  {
   "cell_type": "code",
   "execution_count": 316,
   "id": "2f7c0f7b-d831-4b9e-922e-cf54b4e7822b",
   "metadata": {},
   "outputs": [
    {
     "name": "stdout",
     "output_type": "stream",
     "text": [
      "a:a 위치입니다 b:b 위치입니다 c:c 위치입니다\n",
      "<class 'tuple'>\n",
      "('여기는', '어딜까요', '몇개', '더')\n"
     ]
    }
   ],
   "source": [
    "test_func('a 위치입니다','b 위치입니다','c 위치입니다','여기는','어딜까요','몇개','더')"
   ]
  },
  {
   "cell_type": "code",
   "execution_count": 317,
   "id": "82647052-7250-4ee3-91da-d4b26349ad57",
   "metadata": {},
   "outputs": [],
   "source": [
    "# **args: var keyward 가변 위치\n",
    "def test_func2(a='a',b='b',**args):\n",
    "    print(f'a:{a} b:{b}')\n",
    "    print(type(args))\n",
    "    print(args)"
   ]
  },
  {
   "cell_type": "code",
   "execution_count": 319,
   "id": "2680e109-552b-4976-8c45-a266178b2196",
   "metadata": {},
   "outputs": [
    {
     "name": "stdout",
     "output_type": "stream",
     "text": [
      "a:ab b:bc\n",
      "<class 'dict'>\n",
      "{'c': 'c', 'd': 'd'}\n"
     ]
    }
   ],
   "source": [
    "test_func2(a='ab',b='bc',c='c',d='d')"
   ]
  },
  {
   "cell_type": "code",
   "execution_count": 326,
   "id": "9e8480fe-9c14-48d1-8475-9b0dc524fd52",
   "metadata": {},
   "outputs": [],
   "source": [
    "def plus_ten(num):\n",
    "    result = num+10\n",
    "    print(f'실행결과\\n반환 값:{result}')\n",
    "    return result"
   ]
  },
  {
   "cell_type": "code",
   "execution_count": 327,
   "id": "b3faab12-8055-43b5-add4-395dddce1d05",
   "metadata": {},
   "outputs": [
    {
     "name": "stdout",
     "output_type": "stream",
     "text": [
      "실행결과\n",
      "반환 값:80\n"
     ]
    },
    {
     "data": {
      "text/plain": [
       "80"
      ]
     },
     "execution_count": 327,
     "metadata": {},
     "output_type": "execute_result"
    }
   ],
   "source": [
    "plus_ten(70)"
   ]
  }
 ],
 "metadata": {
  "kernelspec": {
   "display_name": "Python 3 (ipykernel)",
   "language": "python",
   "name": "python3"
  },
  "language_info": {
   "codemirror_mode": {
    "name": "ipython",
    "version": 3
   },
   "file_extension": ".py",
   "mimetype": "text/x-python",
   "name": "python",
   "nbconvert_exporter": "python",
   "pygments_lexer": "ipython3",
   "version": "3.9.13"
  }
 },
 "nbformat": 4,
 "nbformat_minor": 5
}
