{
 "cells": [
  {
   "cell_type": "code",
   "execution_count": 87,
   "id": "b54d874f-59e9-4c6a-9de9-4d22a47514a9",
   "metadata": {},
   "outputs": [],
   "source": [
    "import numpy as np #numpy 쓸 생각을 한번도못함, 빈 리스트 조건은 not x !!"
   ]
  },
  {
   "cell_type": "code",
   "execution_count": 123,
   "id": "8a5602de-47ec-4cda-88b5-58940bbecae9",
   "metadata": {},
   "outputs": [],
   "source": [
    "class Calculator:\n",
    "    def __init__(self, value = 0): \n",
    "        self.value = value\n",
    "        \n",
    "    def add(self,*values): # 가변인자들은 튜플로 전달함. np.sum(x)와 sum(x)는 다름\n",
    "        if not values:\n",
    "            print('숫자를 입력해주세요.')\n",
    "            return\n",
    "        print(type(values))\n",
    "        self.value = self.value + np.sum(values)\n",
    "    def minus(self,*values):\n",
    "        if not values:\n",
    "            print('숫자를 입력해주세요.')\n",
    "            return\n",
    "        print(type(values))\n",
    "        self.value = self.value - np.sum(values)\n",
    "    def show_value(self):\n",
    "        print(f'현재 값은 {self.value}입니다.')"
   ]
  },
  {
   "cell_type": "code",
   "execution_count": 124,
   "id": "1b269978-04e5-4a37-9e34-dbdbcb94b186",
   "metadata": {},
   "outputs": [],
   "source": [
    "c = Calculator()"
   ]
  },
  {
   "cell_type": "code",
   "execution_count": 125,
   "id": "134489eb-4230-4940-b779-3570a1b23443",
   "metadata": {},
   "outputs": [
    {
     "name": "stdout",
     "output_type": "stream",
     "text": [
      "<class 'tuple'>\n"
     ]
    }
   ],
   "source": [
    "c.add(100)"
   ]
  },
  {
   "cell_type": "code",
   "execution_count": 126,
   "id": "efb4f8bc-74ee-45bb-8797-b1b709dfd28c",
   "metadata": {},
   "outputs": [
    {
     "name": "stdout",
     "output_type": "stream",
     "text": [
      "<class 'tuple'>\n"
     ]
    }
   ],
   "source": [
    "c.minus(20)"
   ]
  },
  {
   "cell_type": "code",
   "execution_count": 127,
   "id": "c973168f-d3b3-4644-8891-d81b5f3b07ad",
   "metadata": {},
   "outputs": [
    {
     "name": "stdout",
     "output_type": "stream",
     "text": [
      "현재 값은 80입니다.\n"
     ]
    }
   ],
   "source": [
    "c.show_value()"
   ]
  },
  {
   "cell_type": "code",
   "execution_count": 128,
   "id": "d590dfc8-d18d-45c8-8242-faf6808d23f6",
   "metadata": {},
   "outputs": [
    {
     "name": "stdout",
     "output_type": "stream",
     "text": [
      "숫자를 입력해주세요.\n"
     ]
    }
   ],
   "source": [
    "c.add()"
   ]
  },
  {
   "cell_type": "code",
   "execution_count": 129,
   "id": "5c765ac0-8ba3-4edc-bb0e-fdb6b2d14658",
   "metadata": {},
   "outputs": [
    {
     "name": "stdout",
     "output_type": "stream",
     "text": [
      "<class 'tuple'>\n"
     ]
    }
   ],
   "source": [
    "c.minus([10,20])"
   ]
  },
  {
   "cell_type": "code",
   "execution_count": 130,
   "id": "616910fd-84ae-446d-ba3b-37549075e2f8",
   "metadata": {},
   "outputs": [
    {
     "name": "stdout",
     "output_type": "stream",
     "text": [
      "<class 'tuple'>\n"
     ]
    }
   ],
   "source": [
    "c.add(range(1,6))"
   ]
  },
  {
   "cell_type": "code",
   "execution_count": 131,
   "id": "783f30c4-013c-431a-82df-a6c9a529c504",
   "metadata": {},
   "outputs": [
    {
     "name": "stdout",
     "output_type": "stream",
     "text": [
      "현재 값은 65입니다.\n"
     ]
    }
   ],
   "source": [
    "c.show_value()"
   ]
  },
  {
   "cell_type": "code",
   "execution_count": 137,
   "id": "50709056-c161-42ca-a9b6-0aba4d38b29a",
   "metadata": {},
   "outputs": [],
   "source": [
    "# np.all(배열 a== 배열 b) : a와 b의 요소가 모두 같은지  "
   ]
  },
  {
   "cell_type": "code",
   "execution_count": 138,
   "id": "f6eaf832-78bc-43fb-9f7c-b9b8bc3af25e",
   "metadata": {},
   "outputs": [
    {
     "data": {
      "text/plain": [
       "array([ 4, 10, 18])"
      ]
     },
     "execution_count": 138,
     "metadata": {},
     "output_type": "execute_result"
    }
   ],
   "source": [
    "# 브로드캐스팅: 모양이 다른 배열 간의 연산이 가능하도록 크기를 변환시켜주는 것을 브로드캐스팅!\n",
    "a= np.array([1,2,3])\n",
    "b =np.array([4,5,6])\n",
    "a*b"
   ]
  },
  {
   "cell_type": "code",
   "execution_count": 143,
   "id": "59cbf795-7b24-4628-950c-1caf0aa50030",
   "metadata": {},
   "outputs": [
    {
     "data": {
      "text/plain": [
       "array([2, 4, 6])"
      ]
     },
     "execution_count": 143,
     "metadata": {},
     "output_type": "execute_result"
    }
   ],
   "source": [
    "a=np.array([1,2,3,]) # 스칼라 2를 (2,2,2)로 확장해서 연산을 시켜줌\n",
    "b=2\n",
    "a*b\n",
    "# 확장이 가능한 경우를 확인하는 규칙\n",
    "# 1.numpy배열의 shape을 우측정렬하고 각 차원별로 숫자를 비교하고 비교하는 모든 차원이 두 조건 중 하나에 충족되어야 브로드캐스팅이 가능함.\n",
    "# 1-1: 해당 차원 간의 숫자가 동일한 경우/ 1-2: 해당 차원 중 하나가 1인 경우 , 3x4x2와 4x1인 경우 우측 정렬 할시 44는 같지만 21이 다르긴하지만 1이 충족되므로 가능함"
   ]
  },
  {
   "cell_type": "code",
   "execution_count": 152,
   "id": "2ad302d5-b2ef-481e-8159-24b975db30db",
   "metadata": {},
   "outputs": [
    {
     "data": {
      "text/plain": [
       "array([[[  1,   2,   3,   4,   5],\n",
       "        [ 18,  21,  24,  27,  30],\n",
       "        [ 55,  60,  65,  70,  75],\n",
       "        [112, 119, 126, 133, 140]],\n",
       "\n",
       "       [[ 21,  22,  23,  24,  25],\n",
       "        [ 78,  81,  84,  87,  90],\n",
       "        [155, 160, 165, 170, 175],\n",
       "        [252, 259, 266, 273, 280]],\n",
       "\n",
       "       [[ 41,  42,  43,  44,  45],\n",
       "        [138, 141, 144, 147, 150],\n",
       "        [255, 260, 265, 270, 275],\n",
       "        [392, 399, 406, 413, 420]]])"
      ]
     },
     "execution_count": 152,
     "metadata": {},
     "output_type": "execute_result"
    }
   ],
   "source": [
    "a=np.arange(1,61).reshape(3,4,5) # 3x4x5와 4x1 result는 3x4x5가 됨.\n",
    "b=np.array([[1],[3],[5],[7]])\n",
    "a*b"
   ]
  },
  {
   "cell_type": "code",
   "execution_count": 188,
   "id": "d00fcd2e-8b83-49ed-ab57-97d31cbaf12f",
   "metadata": {},
   "outputs": [
    {
     "name": "stdout",
     "output_type": "stream",
     "text": [
      "[[1 2 3]\n",
      " [4 5 6]\n",
      " [7 8 9]]\n",
      "[1 4 7]\n",
      "45\n"
     ]
    }
   ],
   "source": [
    "x = np.array([1,2,3,4,5,6,7,8,9]).reshape(3,3)\n",
    "print(x)\n",
    "print(x.min(axis=1))"
   ]
  },
  {
   "cell_type": "markdown",
   "id": "ea0233ab-e089-4386-9718-6d2032c40dba",
   "metadata": {},
   "source": [
    "### argmin(): 해당 배열의 제일 작은 값의 인덱스를 반환/  \n",
    "### mean(),median, np.any(), np-all()"
   ]
  },
  {
   "cell_type": "code",
   "execution_count": 259,
   "id": "17206748-f644-4fbf-b795-f3ab3cc7b41c",
   "metadata": {},
   "outputs": [
    {
     "name": "stdout",
     "output_type": "stream",
     "text": [
      "(5, 6)\n",
      "9.0\n",
      "[20.1 27.  23.6 26.  28.2 26.5]\n",
      "[8.2 8.8 8.  9.  7.7 8.9]\n",
      "[4.02 5.4  4.72 5.2  5.64 5.3 ]\n",
      "[0.7 1.1 2.7 2.1 2.8 0.2]\n"
     ]
    }
   ],
   "source": [
    "practice = np.array([[1.1, 7.1, 8.0, 2.1, 6.5, 7.2],\n",
    "                     [2.7, 5.2, 3.3, 9.0, 7.7, 2.8],\n",
    "                     [0.7, 8.8, 4.2, 8.9, 4.3, 7.4],\n",
    "                     [8.2, 1.1, 5.4, 2.9, 6.9, 0.2],\n",
    "                     [7.4, 4.8, 2.7, 3.1, 2.8, 8.9]])\n",
    "print(practice.shape)\n",
    "print(np.max(practice))\n",
    "print(np.sum(practice,axis=0))                      ### numpy axis=0 ↓ ,, axis=1 ㅡ>\n",
    "print(practice.max(axis=0))\n",
    "print(practice.mean(axis=0))\n",
    "print(practice.min(axis=0))"
   ]
  },
  {
   "cell_type": "code",
   "execution_count": 239,
   "id": "469d8738-ebcd-450a-9b1d-e784bb8c56f5",
   "metadata": {},
   "outputs": [
    {
     "data": {
      "text/plain": [
       "7.617396186388506"
      ]
     },
     "execution_count": 239,
     "metadata": {},
     "output_type": "execute_result"
    }
   ],
   "source": [
    "import random\n",
    "pra = iter(lambda: random.uniform(0,10),6.19)\n",
    "next(pra)"
   ]
  },
  {
   "cell_type": "code",
   "execution_count": 262,
   "id": "6d5485d6-6669-4be2-b560-91cdca6d919d",
   "metadata": {},
   "outputs": [
    {
     "data": {
      "text/plain": [
       "array([[1.1, 2.1, 6.5, 7.1, 7.2, 8. ],\n",
       "       [2.7, 2.8, 3.3, 5.2, 7.7, 9. ],\n",
       "       [0.7, 4.2, 4.3, 7.4, 8.8, 8.9],\n",
       "       [0.2, 1.1, 2.9, 5.4, 6.9, 8.2],\n",
       "       [2.7, 2.8, 3.1, 4.8, 7.4, 8.9]])"
      ]
     },
     "execution_count": 262,
     "metadata": {},
     "output_type": "execute_result"
    }
   ],
   "source": [
    "practice.sort(axis=1)\n",
    "practice"
   ]
  },
  {
   "cell_type": "code",
   "execution_count": 265,
   "id": "7c6db740-429f-4590-a23f-10b016d662a4",
   "metadata": {},
   "outputs": [
    {
     "name": "stdout",
     "output_type": "stream",
     "text": [
      "[2 3 1 0]\n",
      "[12 25 38 42]\n"
     ]
    }
   ],
   "source": [
    "# argsort: 인덱스 정보를 가지고 와서 정렬된 인덱싱을 할 수 있음.\n",
    "a= np.array([42,38,12,25])\n",
    "j=np.argsort(a)\n",
    "print(j)\n",
    "j\n",
    "print(a[j])"
   ]
  },
  {
   "cell_type": "code",
   "execution_count": 266,
   "id": "c82fc4a8-28dd-46d9-9933-11afd11521d2",
   "metadata": {},
   "outputs": [
    {
     "data": {
      "text/plain": [
       "array([[1, 2],\n",
       "       [3, 4],\n",
       "       [5, 6]])"
      ]
     },
     "execution_count": 266,
     "metadata": {},
     "output_type": "execute_result"
    }
   ],
   "source": [
    "a = np.array([[1,2],[3,4],[5,6]])\n",
    "a"
   ]
  },
  {
   "cell_type": "code",
   "execution_count": 270,
   "id": "8e64b9cb-e21b-4d08-ab6c-8c843b8e407e",
   "metadata": {},
   "outputs": [
    {
     "name": "stdout",
     "output_type": "stream",
     "text": [
      "[1 4 5]\n",
      "[[1 2 1]\n",
      " [3 4 3]\n",
      " [5 6 5]]\n"
     ]
    }
   ],
   "source": [
    "print(a[[0,1,2], [0,1,0]]) # 고급 인덱싱!!!!!!!!!!!!!!!!!!!\n",
    "print(a[:,[0,1,0]])"
   ]
  },
  {
   "cell_type": "code",
   "execution_count": 286,
   "id": "d6181b32-42d4-4cfa-8b79-97a5a49c5431",
   "metadata": {},
   "outputs": [
    {
     "data": {
      "text/plain": [
       "array([[  1,   4,   2,   3],\n",
       "       [ 46,  71,  99, 100],\n",
       "       [ 81, 100,  59,  90]])"
      ]
     },
     "execution_count": 286,
     "metadata": {},
     "output_type": "execute_result"
    }
   ],
   "source": [
    "scores = np.array([[1,2,3,4],\n",
    "                  [46,99,100,71],\n",
    "                  [81,59,90,100]])\n",
    "j = np.argsort(scores[1])\n",
    "scores[:,j]"
   ]
  },
  {
   "cell_type": "code",
   "execution_count": 287,
   "id": "bb38244d-cd1b-4619-9ef1-29638d20ae3b",
   "metadata": {},
   "outputs": [],
   "source": [
    "# 분산: np.var()\n",
    "# 표준편차: np.std()\n",
    "# 중앙값: np.median()\n",
    "# 최소값: np.percentile(x,0)\n",
    "# 사분위수: np.precentile(x,25) 1분위수 ,, 50는 2분위수"
   ]
  },
  {
   "cell_type": "markdown",
   "id": "cc5af53f-37ea-4f0e-9d7d-451e3d114f5b",
   "metadata": {},
   "source": [
    "### random과  np.random은 다른 것임!  \n",
    "## 시드 설정하기: 컴퓨터 프로그램은 엄격한 무작위 수가 아니다. 정해진 알고리즘에 의해서 난수처럼 보이는 수열을 생성하므로 기준이 되는 시작 수를 시드라 함.  \n",
    "## np.random.seed() -인수로는 0 혹은 큰 정수를 넣어준다. np.random.rand(5)인 경우 5개의 난수를 array에 넣어서 발생시켜줌 "
   ]
  },
  {
   "cell_type": "code",
   "execution_count": 290,
   "id": "6a94eddf-a7e9-47ec-8dbd-7e784c168a8c",
   "metadata": {},
   "outputs": [],
   "source": [
    "np.random.seed(0)"
   ]
  },
  {
   "cell_type": "code",
   "execution_count": 291,
   "id": "95bc94f6-8ab2-4dbc-84e0-f6463bac0a74",
   "metadata": {},
   "outputs": [
    {
     "data": {
      "text/plain": [
       "array([0.5488135 , 0.71518937, 0.60276338, 0.54488318, 0.4236548 ])"
      ]
     },
     "execution_count": 291,
     "metadata": {},
     "output_type": "execute_result"
    }
   ],
   "source": [
    "np.random.rand(5)"
   ]
  },
  {
   "cell_type": "code",
   "execution_count": 292,
   "id": "f893a5d7-2921-4c64-bc68-ab730fae769f",
   "metadata": {},
   "outputs": [
    {
     "data": {
      "text/plain": [
       "array([0.64589411, 0.43758721, 0.891773  , 0.96366276, 0.38344152,\n",
       "       0.79172504, 0.52889492, 0.56804456, 0.92559664, 0.07103606])"
      ]
     },
     "execution_count": 292,
     "metadata": {},
     "output_type": "execute_result"
    }
   ],
   "source": [
    "np.random.rand(10)"
   ]
  },
  {
   "cell_type": "code",
   "execution_count": 293,
   "id": "b913e4c1-bf38-4aef-898e-756cb5736701",
   "metadata": {},
   "outputs": [
    {
     "data": {
      "text/plain": [
       "array([0.0871293 , 0.0202184 , 0.83261985, 0.77815675, 0.87001215,\n",
       "       0.97861834, 0.79915856, 0.46147936, 0.78052918, 0.11827443])"
      ]
     },
     "execution_count": 293,
     "metadata": {},
     "output_type": "execute_result"
    }
   ],
   "source": [
    "np.random.rand(10)"
   ]
  },
  {
   "cell_type": "code",
   "execution_count": 294,
   "id": "e25b9270-efab-469f-a4e1-b5c7e900454b",
   "metadata": {},
   "outputs": [],
   "source": [
    "np.random.seed(0)"
   ]
  },
  {
   "cell_type": "code",
   "execution_count": 295,
   "id": "c2f8074b-a49f-4827-8998-73ad4d3ec560",
   "metadata": {},
   "outputs": [
    {
     "data": {
      "text/plain": [
       "array([0.5488135 , 0.71518937, 0.60276338, 0.54488318, 0.4236548 ])"
      ]
     },
     "execution_count": 295,
     "metadata": {},
     "output_type": "execute_result"
    }
   ],
   "source": [
    "np.random.rand(5)"
   ]
  },
  {
   "cell_type": "code",
   "execution_count": 296,
   "id": "38e51bbd-cb1e-4aa0-9331-daa50e1d2619",
   "metadata": {},
   "outputs": [
    {
     "data": {
      "text/plain": [
       "array([0.64589411, 0.43758721, 0.891773  , 0.96366276, 0.38344152,\n",
       "       0.79172504, 0.52889492, 0.56804456, 0.92559664, 0.07103606])"
      ]
     },
     "execution_count": 296,
     "metadata": {},
     "output_type": "execute_result"
    }
   ],
   "source": [
    "np.random.rand(10)"
   ]
  },
  {
   "cell_type": "markdown",
   "id": "17a53442-bf85-4a1d-b0a1-b986e935a9be",
   "metadata": {},
   "source": [
    "### 데이터의 순서 바꾸기: shuffle함수를 사용함(in-place함수임)"
   ]
  },
  {
   "cell_type": "code",
   "execution_count": 297,
   "id": "8ef4a877-c384-4f0a-be39-1652972da5d3",
   "metadata": {},
   "outputs": [
    {
     "name": "stdout",
     "output_type": "stream",
     "text": [
      "[0 1 2 3 4 5 6 7 8 9]\n"
     ]
    },
    {
     "data": {
      "text/plain": [
       "array([5, 1, 8, 2, 6, 7, 0, 3, 4, 9])"
      ]
     },
     "execution_count": 297,
     "metadata": {},
     "output_type": "execute_result"
    }
   ],
   "source": [
    "x = np.arange(10)\n",
    "print(x)\n",
    "np.random.shuffle(x)\n",
    "x"
   ]
  },
  {
   "cell_type": "markdown",
   "id": "8a7a17e7-4598-4b53-ab35-fcd74b07092a",
   "metadata": {},
   "source": [
    "### 데이터 샘플링: choice함수를 사용함(데이터의 집합에서 무작위로 한 개 선택)  \n",
    "### np.random.choice(a,size=None,replace=True,p=None) **size**:정수,샘플,숫자/**replace**:boolean. True 중복 선택!/**p**:배열, 각 데이터가 선택될 확률"
   ]
  },
  {
   "cell_type": "code",
   "execution_count": 316,
   "id": "78f4d503-e698-40aa-a318-385fb1185a7e",
   "metadata": {},
   "outputs": [
    {
     "data": {
      "text/plain": [
       "array([1, 4, 5, 3, 2])"
      ]
     },
     "execution_count": 316,
     "metadata": {},
     "output_type": "execute_result"
    }
   ],
   "source": [
    "x = [_ for _ in range(1,6)]\n",
    "np.random.choice(x,size=5,replace=False,p=[0.9,0.01,0.01,0.01,0.07])"
   ]
  },
  {
   "cell_type": "markdown",
   "id": "4a0ec593-b6ed-49a1-842a-6a39f5827418",
   "metadata": {},
   "source": [
    "### rand: 0 ~ 1사이의 균일분포(shape)형태의 배열 생성/randn: 표준정규분포(shape)/randint:  균일분포의 정수 난수(low,high=None,size=None) high가 없으면 0~low, size는 난수의 개수"
   ]
  },
  {
   "cell_type": "code",
   "execution_count": 323,
   "id": "a88735e1-554a-4b26-b257-adf6d093d8e3",
   "metadata": {},
   "outputs": [
    {
     "data": {
      "text/plain": [
       "array([23, 24,  4, 36, 44, 23])"
      ]
     },
     "execution_count": 323,
     "metadata": {},
     "output_type": "execute_result"
    }
   ],
   "source": [
    "np.random.randint(0,45,6) # np.random은 high포함 x, random.randint는 포햠 O"
   ]
  },
  {
   "cell_type": "code",
   "execution_count": 335,
   "id": "ff1ad8a1-43ae-40d5-a5e0-2ac9510b847f",
   "metadata": {},
   "outputs": [
    {
     "name": "stdout",
     "output_type": "stream",
     "text": [
      "0.56\n",
      "0.56\n",
      "0.56\n"
     ]
    }
   ],
   "source": [
    "np.random.seed(0)\n",
    "k = np.random.randint(0,2,100)\n",
    "#print(np.count_nonzero(k == 1)/100)\n",
    "#print(list(k).count(1)/100)\n",
    "print(np.sum(k)/100)"
   ]
  },
  {
   "cell_type": "code",
   "execution_count": 339,
   "id": "a5734d0b-fbc6-485b-9493-9b61368cfaa7",
   "metadata": {},
   "outputs": [
    {
     "data": {
      "text/plain": [
       "3.42"
      ]
     },
     "execution_count": 339,
     "metadata": {},
     "output_type": "execute_result"
    }
   ],
   "source": [
    "np.random.seed(0)\n",
    "num_list = np.random.randint(1,7,100)\n",
    "np.sum(num_list)/len(num_list)"
   ]
  },
  {
   "cell_type": "markdown",
   "id": "ed2dbe2a-d5ab-4e70-86c9-58909fda8a93",
   "metadata": {},
   "source": [
    "### 정수 데이터 카운팅: unique명령이나 bincount명령으로 데이터 값을 분석할 수 있다. unique()는 데이터에서 중복된 값을 제거하고 중복되지 않는 값의 리스트를 출력  \n",
    "### return_counts인수를 True로 설정하면 각 값의 데이터 개수도 출력함.  \n",
    "### 그러나 unique는 존재하는 데이터에 대해서만 세므로 bincount함수에 min/length 인수를 설정하여 쓰는 것이 더 편리하다. 0부터 minlength -1 까지의 숫자에 대해 각각 카운트를 합니다"
   ]
  },
  {
   "cell_type": "code",
   "execution_count": 341,
   "id": "4301a646-00b4-4b9c-a428-a94932677718",
   "metadata": {},
   "outputs": [
    {
     "name": "stdout",
     "output_type": "stream",
     "text": [
      "[0 2 3 1 0 0]\n",
      "(array([1, 2, 3]), array([2, 3, 1], dtype=int64))\n"
     ]
    }
   ],
   "source": [
    "print(np.bincount([1,1,2,2,2,3],minlength=6))\n",
    "print(np.unique([1,1,2,2,2,3],return_counts=True))"
   ]
  }
 ],
 "metadata": {
  "kernelspec": {
   "display_name": "Python 3 (ipykernel)",
   "language": "python",
   "name": "python3"
  },
  "language_info": {
   "codemirror_mode": {
    "name": "ipython",
    "version": 3
   },
   "file_extension": ".py",
   "mimetype": "text/x-python",
   "name": "python",
   "nbconvert_exporter": "python",
   "pygments_lexer": "ipython3",
   "version": "3.9.13"
  }
 },
 "nbformat": 4,
 "nbformat_minor": 5
}
